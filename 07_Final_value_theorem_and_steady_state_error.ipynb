{
 "cells": [
  {
   "cell_type": "code",
   "execution_count": null,
   "id": "2e901fb4",
   "metadata": {},
   "outputs": [],
   "source": [
    "# default_exp steady_state_final_value_theorem"
   ]
  },
  {
   "cell_type": "code",
   "execution_count": null,
   "id": "d463d0ed",
   "metadata": {},
   "outputs": [],
   "source": [
    "#hide\n",
    "%load_ext autoreload\n",
    "%autoreload 2"
   ]
  },
  {
   "cell_type": "code",
   "execution_count": null,
   "id": "daab8e57",
   "metadata": {},
   "outputs": [],
   "source": [
    "#export\n",
    "import numpy as np\n",
    "import matplotlib.pyplot as plt\n",
    "import pandas as pd"
   ]
  },
  {
   "cell_type": "code",
   "execution_count": null,
   "id": "f7e9b938",
   "metadata": {},
   "outputs": [],
   "source": [
    "#hide\n",
    "%matplotlib inline"
   ]
  },
  {
   "cell_type": "markdown",
   "id": "8b06b1ff",
   "metadata": {},
   "source": [
    "# Final Value Theorem and Steady State Error"
   ]
  },
  {
   "cell_type": "markdown",
   "id": "f5f27301",
   "metadata": {},
   "source": [
    "Before we can talk about control systems there is one more concept that we need to understand\n",
    "\n",
    "### What does it mean to have a final value?\n",
    "\n",
    "<tr>\n",
    "<td> <img src=\"img/55.final_values_1.png\" alt=\"55.final_values.png\" style=\"width: 750px;\"/> </td>\n",
    "</tr>"
   ]
  },
  {
   "cell_type": "markdown",
   "id": "43da1737",
   "metadata": {},
   "source": [
    "### How do we calculate the final value?\n",
    "\n",
    "- **Time domain**\n",
    "    - Final Value = $\\lim_{t\\rightarrow0} f(t)$\n",
    "    \n",
    "    This means, for example that given a differential equation:\n",
    "        - $\\large \\ddot{x}(t) + 4\\dot{x}(t) + 2x(t) + \\delta(0)$ \n",
    "        - We can solve it and calculate $\\large \\lim\\limits_{t\\rightarrow0} x(t)$.\n",
    "\n",
    "- **S-Domain**\n",
    "    - We can work directly with the transfer function: $\\large F(s) = \\mathcal{L}(f(t))$\n",
    "    - It simplifies the math: differential equations in the time domain become algebraic equations in the s-domain:\n",
    "       - $\\large s^2X(s)+3sX(s) + 2X(s) = 1$\n",
    "    - We would like to have a way to calculate the final time value of a function using the s-domain representation of that function\n",
    "    - This is where the **Final Value Theorem** comes into play.\n",
    "     \n",
    "    \n",
    "    "
   ]
  },
  {
   "cell_type": "markdown",
   "id": "ca3282e6",
   "metadata": {},
   "source": [
    "### Final Value Theorem\n",
    "\n",
    "> $\\large \\lim\\limits_{t \\rightarrow \\inf} f(t) = \\lim\\limits_{s \\rightarrow 0} sF(s)$"
   ]
  },
  {
   "cell_type": "markdown",
   "id": "8ec2f037",
   "metadata": {},
   "source": [
    "- We can use the Laplace transform directly\n",
    "- Most of the time we already have the Laplace transform"
   ]
  },
  {
   "cell_type": "markdown",
   "id": "5139a127",
   "metadata": {},
   "source": [
    "- The Final Value Theorem does not work on every single transfer function\n",
    "\n",
    "We can differentiate four cases:\n",
    "- Right Half Plane (Real > 0)\n",
    "- Imaginary axis (Real = 0)\n",
    "- Left Half Plane (Real < 0)\n",
    "- The Origin \n",
    "\n",
    "And understand what it means to have a pole in each one of these regions.\n",
    "\n",
    "- **Right Half Plane (Real > 0):** In this case, the system is unstable: The real component is positive, and $e^{+st}$ goes to infinity.\n",
    "   - The final value of a system with a pole in the RHP does not exist\n",
    "   \n",
    "   For ex. $G(s) = \\frac{1}{s-2}$\n",
    "       FVT: $\\lim\\limits_{s \\rightarrow 0} \\frac{s}{s-2}=0$\n",
    "     - The FVT produces the wrong value if you use it.\n",
    "\n",
    "\n",
    "- **Imaginary axis (Real = 0)**\n",
    "  - We know that the system will have oscillatory modes ($e^{(jwt)}$ produces sin/cos)\n",
    "  - The final value is undefined.\n",
    "  \n",
    "   For ex. $G(s) = \\frac{1}{s^2+4}$\n",
    "     FVT: $\\lim\\limits_{s \\rightarrow 0} \\frac{s}{s^2+4}=0$\n",
    "  - The FVT produces the wrong value if you use it.\n",
    "\n",
    "\n",
    "- **Left Half Plane (Real < 0):** In this case, the impulse response of the system is stable and eventually will go to zero.\n",
    "\n",
    "   For ex. $G(s) = \\frac{1}{s+2}$\n",
    "     FVT: $\\lim\\limits_{s \\rightarrow 0} \\frac{s}{s+2}=0$\n",
    "     - The FVT produces the correct value. Note that the value will be zero for every transfer function with poles only in the left half plane.\n",
    "\n",
    "\n",
    "\n",
    "- **The Origin:** In this case we are looking at a system like the integrator \n",
    "\n",
    "   For ex. $G(s) = \\frac{1}{s}$\n",
    "     FVT: $\\lim\\limits_{s \\rightarrow 0} \\frac{s}{s}=1$\n",
    "     - The FVT produces the correct value. "
   ]
  },
  {
   "cell_type": "markdown",
   "id": "303f66cf",
   "metadata": {},
   "source": [
    "**The number of poles at the origin is called _System Type_**\n",
    "\n",
    "- Type 0: \n",
    "    - no poles at the origin\n",
    "    - FV = 0 (if all poles are in the LHP)\n",
    "\n",
    "- Type 1: \n",
    "    - one pole at the origin\n",
    "    - the final value is a real number  (if all the other poles are in the LHP)\n",
    "\n",
    "- Type 2:\n",
    "    - two poles at the origin\n",
    "    - the final value is $\\large \\inf$ (the integral of a step is a ramp)\n",
    "    \n",
    "- Type 3 and above:\n",
    "    - three or more poles at the origin\n",
    "    - the final value is $\\large \\inf$ (we are now integrating a ramp, etc.)\n",
    "    \n",
    "<tr>\n",
    "<td> <img src=\"img/56.types_response.png\" alt=\"56.types_response.png\" style=\"width: 750px;\"/> </td>\n",
    "</tr>"
   ]
  },
  {
   "cell_type": "markdown",
   "id": "cadd018a",
   "metadata": {},
   "source": [
    "- We can use the Final Value Theorem if all poles are in the Left Half Plane or at the origin (**aymptotically stable system**).\n",
    "- If there is even a single pole with $\\Re > 0$, or a pair of complex conjugated poles (on the imaginary axis) then we cannot use the FVT."
   ]
  },
  {
   "cell_type": "markdown",
   "id": "b0d6b0ca",
   "metadata": {},
   "source": [
    "## Examples"
   ]
  },
  {
   "cell_type": "markdown",
   "id": "e0f72147",
   "metadata": {},
   "source": [
    "Let's consider:\n",
    "\n",
    "- $\\large G(s)=\\frac{1}{s^2+s}$\n",
    "- $\\large u(t) = \\delta(t) \\rightarrow U(s)=1$\n",
    "\n",
    "\n",
    "- This is type 1 system: \n",
    "   - $\\large G(s)=\\frac{1}{s^2+s} = \\frac{1}{s}\\frac{1}{s+1} $\n",
    "   \n",
    "   <tr>\n",
    "<td> <img src=\"img/57.example_1_poles.png\" alt=\"57.example_1_poles\" style=\"width: 250px;\"/> </td>\n",
    "</tr>"
   ]
  },
  {
   "cell_type": "markdown",
   "id": "eb44c849",
   "metadata": {},
   "source": [
    "We can apply the Final Value Theorem:\n",
    "\n",
    "$$ G(0) = \\lim\\limits_{s \\rightarrow 0} s \\frac{1}{s}\\frac{1}{s+1} = 1$$"
   ]
  },
  {
   "cell_type": "markdown",
   "id": "c4a2a664",
   "metadata": {},
   "source": [
    "And in fact if we plot the impulse response:\n",
    "- $\\large y(t) = 1-e^{-t}$\n",
    "\n",
    "We get:"
   ]
  },
  {
   "cell_type": "code",
   "execution_count": null,
   "id": "348306e2",
   "metadata": {},
   "outputs": [
    {
     "data": {
      "image/png": "[encoded data removed]",
      "text/plain": [
       "<Figure size 432x288 with 1 Axes>"
      ]
     },
     "metadata": {
      "needs_background": "light"
     },
     "output_type": "display_data"
    }
   ],
   "source": [
    "time = np.linspace(0, 10, 20)\n",
    "y_t = 1 - np.exp(-time)\n",
    "plt.plot(time, y_t, color='red');"
   ]
  },
  {
   "cell_type": "markdown",
   "id": "c21761d8",
   "metadata": {},
   "source": [
    "_______"
   ]
  },
  {
   "cell_type": "markdown",
   "id": "8089ea6b",
   "metadata": {},
   "source": [
    "Let's now consider the same system, but with a different input:\n",
    "- $\\large u(t) = 1(t)$ (a step input)\n",
    "- $\\large U(s) = \\frac{1}{s}$\n",
    "\n",
    "When we do this, we are adding another pole at the origin:\n",
    "\n",
    "<tr>\n",
    "<td> <img src=\"img/58.example-2-integrator.png\" alt=\"58.example-2-integrator\" style=\"width: 350px;\"/> </td>\n",
    "</tr>\n",
    "\n",
    "- This is now a type 2 system\n",
    "- We can apply the Final Value Theorem:\n",
    "\n",
    "$$ G(0) = \\lim\\limits_{s \\rightarrow 0} s \\frac{1}{s}\\frac{1}{s^2+s} = \\inf$$"
   ]
  },
  {
   "cell_type": "markdown",
   "id": "a58d9a17",
   "metadata": {},
   "source": [
    "### Steady state error"
   ]
  },
  {
   "cell_type": "markdown",
   "id": "f7951060",
   "metadata": {},
   "source": [
    "Let's know see what happens when we apply these concepts to a feedback system:\n",
    "\n",
    "<tr>\n",
    "<td> <img src=\"img/59.feedback-error.png\" alt=\"59.feedback-error\" style=\"width: 500px;\"/> </td>\n",
    "</tr>\n"
   ]
  },
  {
   "cell_type": "markdown",
   "id": "1688f0fa",
   "metadata": {},
   "source": [
    "- We could apply the Final Value Theorem to find the final value of $Y(s)$\n",
    "   - Note that we need to reduce the system into a single transfer function first.\n",
    "   \n",
    "- However, if the system is correctly designed we want $Y(s) \\rightarrow U(s)$, so the output follows the input as closely as possible\n",
    "   - e.g. We input a ramp, we would expect a ramp at the output.\n",
    "   - In this case the final value theorem would give us $\\large \\inf$, but regardless what information have we gained?\n",
    "   \n",
    "- Instead, we design feedback control systems to drive the _error_ between the reference input and the output to zero.\n",
    "- The final value of the error is a much better indicator of the performance of our controller.\n",
    "- This is called the **_Steady State Error_** and we can use the FVT to obtain it."
   ]
  },
  {
   "cell_type": "markdown",
   "id": "42875227",
   "metadata": {},
   "source": [
    "First, we need to write the transfer function from the input $U(s)$ to the error $Err(s)$.\n",
    "- To emphasise what we are doing, let's re-write the block diagram:\n",
    "\n",
    "<tr>\n",
    "<td> <img src=\"img/60.feedback-error-1.png\" alt=\"60.feedback-error-1\" style=\"width: 500px;\"/> </td>\n",
    "</tr>\n"
   ]
  },
  {
   "cell_type": "markdown",
   "id": "72e30ec7",
   "metadata": {},
   "source": [
    "We know how to write the transfer function for this already:\n",
    "  $$E(s)=U(s)-Y(s)$$\n",
    "  $$Y(s)=G(s)E(s)$$\n",
    "  \n",
    "  $$\\Rightarrow E(s)=U(s)-G(s)E(s) \\rightarrow E(s)+G(s)E(s) = U(s) $$\n",
    "  $$ E(s)= \\frac{U(s)}{1+G(s)}$$\n",
    " "
   ]
  },
  {
   "cell_type": "markdown",
   "id": "b3281fd0",
   "metadata": {},
   "source": [
    "**_Steady state error_** \n",
    "\n",
    "$$E_{ss} = \\lim \\limits_{s\\rightarrow0} s\\frac{U(s)}{1+G(s)}$$"
   ]
  },
  {
   "cell_type": "markdown",
   "id": "d9f53e4e",
   "metadata": {},
   "source": [
    "We can now figure out what the steady state error is replacing $U(s)$ with the appropriate input we want to study the response of (e.g. $\\frac{1}{s}, \\frac{1}{s^2}$).\n",
    "\n",
    "The same observations we did before apply: depending on the input we are adding poles at the origin, and hence increasing the type of the system. \n",
    "- This means that the system might not be able to follow you inputs perfectly.\n",
    "- This depends on the design specifications and we might need to change the controller\n",
    "   - More on this later, for now you might need to modify the system adding a zero at the origin."
   ]
  },
  {
   "cell_type": "code",
   "execution_count": null,
   "id": "04a4aae1",
   "metadata": {},
   "outputs": [],
   "source": []
  }
 ],
 "metadata": {
  "kernelspec": {
   "display_name": "Python [conda env:data-science] *",
   "language": "python",
   "name": "conda-env-data-science-py"
  }
 },
 "nbformat": 4,
 "nbformat_minor": 5
}
