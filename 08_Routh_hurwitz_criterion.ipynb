{
 "cells": [
  {
   "cell_type": "code",
   "execution_count": null,
   "id": "2e901fb4",
   "metadata": {},
   "outputs": [],
   "source": [
    "# default_exp routh_hurwitz_criterion"
   ]
  },
  {
   "cell_type": "code",
   "execution_count": null,
   "id": "d463d0ed",
   "metadata": {},
   "outputs": [],
   "source": [
    "#hide\n",
    "%load_ext autoreload\n",
    "%autoreload 2"
   ]
  },
  {
   "cell_type": "code",
   "execution_count": null,
   "id": "daab8e57",
   "metadata": {},
   "outputs": [],
   "source": [
    "#export\n",
    "import numpy as np\n",
    "import matplotlib.pyplot as plt"
   ]
  },
  {
   "cell_type": "code",
   "execution_count": null,
   "id": "f7e9b938",
   "metadata": {},
   "outputs": [],
   "source": [
    "#hide\n",
    "%matplotlib inline"
   ]
  },
  {
   "cell_type": "markdown",
   "id": "8b06b1ff",
   "metadata": {},
   "source": [
    "# Routh-Hurwitz Criterion"
   ]
  },
  {
   "cell_type": "markdown",
   "id": "bc8a7f2d",
   "metadata": {},
   "source": [
    "## Background\n",
    "\n",
    "- Given a system with transfer function $G(s) = \\frac{N(s)}{D(s)}$: in order for a system to be stable, all the roots of its characteristic equation $D(s)=0$ must have $Re < 0$\n",
    "- The roots of the characteristic equation $D(s)=0$ are the poles of the transfer function $G(s)$."
   ]
  },
  {
   "cell_type": "markdown",
   "id": "727d775d",
   "metadata": {},
   "source": [
    "For example:\n",
    "\n",
    "$$G(s) = \\frac{1}{s+a}$$\n",
    "\n",
    "whose inverse Laplace transform to get the time domain representation:\n",
    "\n",
    "$$\\mathcal{L}^{-1}(G(s)) = e^{-at} = e^{st}$$\n",
    "\n",
    "- if $a > 0$, the system is stable: signals go to zero as time goes to infinity.\n",
    "\n",
    "- if $a < 0$, the system is unstable: the response of the system goes to infinity."
   ]
  },
  {
   "cell_type": "markdown",
   "id": "41406e5a",
   "metadata": {},
   "source": [
    "We can have more complex transfer functions:\n",
    "\n",
    "$$G(s) = \\frac{1}{s+a}\\frac{1}{s+b}\\frac{1}{s+c}...$$\n",
    "\n",
    "and we know that we can always simplify a transfer function using partial fraction expansion:\n",
    "\n",
    "$$G(s) = \\frac{A}{s+a} + \\frac{B}{s+b} + \\frac{C}{s+c}...$$\n",
    "\n",
    "and\n",
    "\n",
    "$$\\mathcal{L}^{-1}(G(s)) = Ae^{-at} + Be^{-bt} + Ce^{-ct}...$$\n",
    "\n",
    "**If there is one root that is unstable, the system is unstable.**\n",
    "\n",
    "- We know that we can determine the stability of the system calculating the roots of the characteristic equation\n",
    "\n",
    "- Calculating the roots of a polynomial for $n>2$ is time consuming, and possibly even impossible in closed form\n",
    "\n",
    "$$12s^3+14s^4+3s^3+s^2+16s+11=0$$\n",
    "\n",
    "- We would like to determine stability (hence the roots of $D(s)=0$) without solving for the roots directly\n",
    "\n",
    "- This is where the Routh-Hurwitz criterion can help us\n"
   ]
  },
  {
   "cell_type": "markdown",
   "id": "cde4f364",
   "metadata": {},
   "source": [
    "------------"
   ]
  },
  {
   "cell_type": "markdown",
   "id": "a955c833",
   "metadata": {},
   "source": [
    "- The **Routh–Hurwitz stability criterion** is a mathematical test that is a necessary and sufficient condition for the stability of a linear time invariant (LTI) control system\n",
    "- Determine whether all the roots of the characteristic polynomial of a linear system have negative real parts\n",
    "- The importance of the criterion is that the roots $p$ of the characteristic equation of a linear system with negative real parts represent solutions $e^{pt}$ of the system that are stable (bounded). \n",
    "- The criterion provides a way to determine if the equations of motion of a linear system have only stable solutions, without solving the system directly\n",
    "\n",
    "- _RHC: All the roots of a polinomial have $Re<0$ if and only if a certain set of algebraic combinations (i.e. fill out the RH array) of its coefficients have the same signs_"
   ]
  },
  {
   "cell_type": "markdown",
   "id": "cf2b4b40",
   "metadata": {},
   "source": [
    "Given:\n",
    "\n",
    "$$G(s) = \\frac{N(s)}{D(s)}$$\n",
    "\n",
    "- If all the signs of the coefficients are _NOT_ the same, then the system is **unstable**\n",
    "   - e.g. $s^5+3s^3-4s^2+s+1$ $\\rightarrow$ _unstable_\n",
    "   \n",
    "- If all the signs are the same, then the system can be stable or unstable\n",
    "\n",
    "For example:\n",
    "\n",
    "$$G(s) = \\frac{1}{(s^2-s+4)(s+2)(s+1)}$$\n",
    "\n",
    "the roots are $0.5\\pm j1.9365, -2, -1$, and we have two roots with $Re > 0$.\n",
    "\n",
    "If we write the characteristic equation however:\n",
    "\n",
    "$$s^4+2s^3+3s^2+10s+8 = 0$$\n",
    "\n",
    "- All coefficients have the same sign. We need to use the RHC and populate the Routh array"
   ]
  },
  {
   "cell_type": "markdown",
   "id": "f7c71915",
   "metadata": {},
   "source": [
    "---------------"
   ]
  },
  {
   "cell_type": "markdown",
   "id": "faa18330",
   "metadata": {},
   "source": [
    "## Routh-Hurwitz array"
   ]
  },
  {
   "cell_type": "markdown",
   "id": "87de8634",
   "metadata": {},
   "source": [
    "A tabular method can be used to determine the stability when the roots of a higher order characteristic polynomial are difficult to obtain. For an $n$th-degree polynomial\n",
    "\n",
    "$$\n",
    "D(s)=a_{n}s^{n}+a_{{n-1}}s^{{n-1}}+\\cdots +a_{1}s+a_{0}\n",
    "$$\n",
    "\n",
    "the table has $n + 1$ rows and the following structure:\n",
    "\n",
    "|           |           |           |           |     |\n",
    "|  ------   |  ------   |  ------   |  ------   | --- |\n",
    "| $s^n$     | $a_{n}$   | $a_{n-2}$ | $a_{n-4}$ | $...$ |\n",
    "| $s^{n-1}$ | $a_{n-1}$ | $a_{n-3}$ | $a_{n-5}$ | $...$ |\n",
    "| $...$     | $b_1$     | $b_2$     | $b_3$     | $...$ |\n",
    "| $...$     | $c_1$     | $c_2$     | $c_3$     | $...$ |\n",
    "| $s^{1}$   | $...$     | $...$     | $...$     | $...$ |\n",
    "| $s^{0}$   | $...$     | $...$     | $...$     | $...$ |\n",
    "\n",
    "\n"
   ]
  },
  {
   "cell_type": "markdown",
   "id": "53d53d90",
   "metadata": {},
   "source": [
    "where the elements $b_{i}$ and $c_{i}$ can be computed as follows:\n",
    "\n",
    "$$\n",
    "{\\displaystyle b_{i}={\\frac {a_{n-1}\\times {a_{n-2i}}-a_{n}\\times {a_{n-(2i+1)}}}{a_{n-1}}}.}\n",
    "$$\n",
    "\n",
    "$$\n",
    "{\\displaystyle c_{i}={\\frac {b_{1}\\times {a_{n-(2i+1)}}-a_{n-1}\\times {b_{i+1}}}{b_{1}}}.}\n",
    "$$\n",
    "\n",
    "- When completed, the number of sign changes in the first column will be the number of non-negative roots."
   ]
  },
  {
   "cell_type": "markdown",
   "id": "946be4c0",
   "metadata": {},
   "source": [
    "### Examples"
   ]
  },
  {
   "cell_type": "markdown",
   "id": "04fccdfe",
   "metadata": {},
   "source": [
    "$$G(s) = \\frac{1}{(s^2-s+4)(s+2)(s+1)} = \\frac{1}{s^4+2s^3+3s^2+10s+8}$$\n",
    "\n",
    "\n",
    "|           |      |      |      |\n",
    "|  ------   |  ------   |  -   |  -   |\n",
    "| $s^4$     |  $1$   |  $3$   |  $8$   |\n",
    "| $s^{3}$   |  $2$   | $10$   |      |\n",
    "| $s^2$     |  $\\frac{2\\cdot3-1\\cdot10}{2}=-2$  |   $\\frac{2\\cdot8-1\\cdot0}{2}=8$     |      |\n",
    "| $s^{1}$   |  $\\frac{-2\\cdot10-2\\cdot8}{-2}=18$    |   $0$   |      |\n",
    "| $s^{0}$   |  $\\frac{18\\cdot8-2\\cdot0}{2}=8$    |      |      |\n",
    "\n",
    "\n",
    "- Determine the number of roots in RHP by counting the number of sign changes in the first column: **the are two sign changes, hence there are two roots with $Re>0$**\n",
    "- The system is unstable."
   ]
  },
  {
   "cell_type": "markdown",
   "id": "f2a459f5",
   "metadata": {},
   "source": [
    "$$G(s) = \\frac{1}{s^4+2s^3+3s^2+4s+5}$$\n",
    "\n",
    "\n",
    "|           |      |      |      |\n",
    "|  ------   |  ------   |  -   |  -   |\n",
    "| $s^4$     |  $1$   |  $3$   |  $5$   |\n",
    "| $s^{3}$   |  $2$   | $4$   |   $0$   |\n",
    "| $s^2$     |  $\\frac{2\\cdot3-1\\cdot4}{2}=1$  |   $\\frac{2\\cdot5-1\\cdot0}{2}=5$     |      |\n",
    "| $s^{1}$   |  $\\frac{1\\cdot4-2\\cdot5}{1}=-6$    |   $0$   |      |\n",
    "| $s^{0}$   |  $\\frac{-6\\cdot5-1\\cdot0}{-6}=5$    |      |      |\n",
    "\n",
    "- We have two roots with $Re>0$\n",
    "\n",
    "- Roots: $-1.28\\pm j0.858, 0.28\\pm j1.416$"
   ]
  },
  {
   "cell_type": "markdown",
   "id": "86bad249",
   "metadata": {},
   "source": [
    "### Routh-Hurwitz criterion: special cases"
   ]
  },
  {
   "cell_type": "markdown",
   "id": "5c31798f",
   "metadata": {},
   "source": [
    "### Special case 1)\n",
    "\n",
    "- A zero in a row with at least one non-zero appearing later in the row\n",
    "- The system is always unstable\n",
    "- We can still fill out the table to know how many are unstable\n",
    "\n",
    "- Example 1:\n",
    "\n",
    "$$G(s) = \\frac{1}{1s^4+2s^3+0s^2+3s+4}$$\n",
    "\n",
    "\n",
    "|           |      |      |      |\n",
    "|  ------   |  ------   |  -   |  -   |\n",
    "| $s^4$     |  $1$   |  $0$   |  $4$   |\n",
    "| $s^{3}$   |  $2$   | $3$   |   $0$   |\n",
    "| $s^2$     |  $\\frac{2\\cdot0-1\\cdot3}{2}=\\frac{-3}{2}$  |    |      |\n",
    "| $s^{1}$   |     |     |      |\n",
    "| $s^{0}$   |      |      |      |\n",
    "\n",
    "We can already say that the system is unstable\n",
    "\n",
    "\n",
    "- Example 2:\n",
    "$$G(s) = \\frac{1}{1s^4+2s^3+2s^2+4s+5}$$\n",
    "\n",
    "|           |      |      |      |\n",
    "|  ------   |  ------   |  -   |  -   |\n",
    "| $s^4$     |  $1$   |  $2$   |  $5$   |\n",
    "| $s^{3}$   |  $2$   | $4$   |   $0$   |\n",
    "| $s^2$     |  $0 \\rightarrow \\epsilon$  |   $5$    |      |\n",
    "| $s^{1}$   |  $\\frac{\\epsilon\\cdot4-2\\cdot5}{\\epsilon}$    |   $0$   |      |\n",
    "| $s^{0}$   |  $5$    |      |      |\n",
    "\n",
    "- To calculate the coefficients we need to calculate the values for \n",
    "$\\lim \\limits_{\\epsilon\\rightarrow0} $\n",
    "\n",
    "|           |      |      |      |\n",
    "|  ------   |  ------   |  -   |  -   |\n",
    "| $s^4$     |  $1$   |  $2$   |  $5$   |\n",
    "| $s^{3}$   |  $2$   | $4$   |   $0$   |\n",
    "| $s^2$     |  $0^+$  |   $5$    |      |\n",
    "| $s^{1}$   |  $4-\\frac{10}{\\epsilon} = -\\inf$    |   $0$   |      |\n",
    "| $s^{0}$   |  $5$    |      |      |\n",
    "\n",
    "- We have two roots with $Re < 0$"
   ]
  },
  {
   "cell_type": "markdown",
   "id": "f684099c",
   "metadata": {},
   "source": [
    "### Special case 2)\n",
    "\n",
    "- An entire row is zeros\n",
    "\n",
    "$$G(s) = \\frac{1}{1s^5+2s^4+6s^3+10s^2+8s+12}$$\n",
    "\n",
    "|           |      |      |      |\n",
    "|  ------   |  ------   |  -   |  -   |\n",
    "| $s^5$     |  $1$   |  $6$   |  $8$   |\n",
    "| $s^4$     |  $2$   |  $10$   |  $12$   |\n",
    "| $s^{3}$   |  $1$   | $2$   |   $0$   |\n",
    "| $s^2$     |  $6$   |   $12$    |  $0$    |\n",
    "| $s^{1}$   |  $0$   |   $0$   |   $0$   |\n",
    "| $s^{0}$   |  $?$   |      |      |\n",
    "\n",
    "\n",
    "- There are only 3 possible conditions that can lead to a Routh array with all zeros in a row:\n",
    "  - two real roots, equal and opposite in sign (unstable)\n",
    "  - two imaginary roots, that are complex conjugate of each other (marginally stable - response is oscillatory)\n",
    "  - four roots that are all equal distance from the origin (unstable)\n",
    "  \n",
    "<tr>\n",
    "<td> <img src=\"img/rhc-case1.png\" alt=\"rhc-case1\" style=\"width: 300px;\"/> </td>\n",
    "<td> <img src=\"img/rhc-case2.png\" alt=\"rhc-case1\" style=\"width: 300px;\"/> </td>\n",
    "<td> <img src=\"img/rhc-case3.png\" alt=\"rhc-case1\" style=\"width: 300px;\"/> </td>\n",
    "</tr>  \n",
    "\n",
    "- To determine the system stability, the table can be filled as:\n",
    "  - We build the **auxiliary polinomial** using the row above:\n",
    "     $p(s)=6s^2+12s^0=0 \\rightarrow p(s)=s^2+2$\n",
    "  - Take the derivative of $p(s)$:\n",
    "     $\\frac{d}{ds}p(s)=2s$\n",
    "     and replace the all zero row with the coefficient of $\\frac{d}{ds}p(s)$\n",
    "  - Complete the table as we would normally\n",
    " \n",
    " \n",
    " |           |      |      |      |\n",
    "|  ------   |  ------   |  -   |  -   |\n",
    "| $s^5$     |  $1$   |  $6$   |  $8$   |\n",
    "| $s^4$     |  $2$   |  $10$   |  $12$   |\n",
    "| $s^{3}$   |  $1$   | $2$   |   $0$   |\n",
    "| $s^2$     |  $6$   |   $12$    |  $0$    |\n",
    "| $s^{1}$   |  $2$   |   $0$   |   $0$   |\n",
    "| $s^{0}$   |  $12$   |      |      |\n",
    "\n",
    "- No sign changes in the first column, hence no roots with $Re >0$.\n",
    "- This means that the system must have two imaginary roots and is marginally stable."
   ]
  },
  {
   "cell_type": "markdown",
   "id": "e472e284",
   "metadata": {},
   "source": [
    "- The auxiliary polinomial $p(s)$ exists if and only if there is an all zero row in the routh array, and it is a factor of the original polinomial $q(s)$ (it divide the original polinomial with no reminder):\n",
    "\n",
    "$$p(s)r(s)=q(s)$$\n",
    "\n",
    "- This makes it possible to calculate how many roots have $Re<0$, how many $Re=0$ and how many $Re>0$\n",
    "\n",
    "- We can determine $r(s) = \\frac{q(s)}{p(s)}$ (polinomial division)\n",
    "\n",
    "In our case:\n",
    "\n",
    "$$\n",
    "(s^2+2)\\;\\; /\\;\\; (s^5+2s^4+6s^3+10s^2+8s+12)\n",
    "$$\n",
    "\n",
    "$$\\Downarrow$$\n",
    "\n",
    "$$\n",
    "r(s) = s^3 + 2s^2+4s+6\n",
    "$$\n",
    "\n",
    "- any part of the table above the auxiliary polinomial $p(s)$ is due to the factor $r(s)$, and since there are not sign changes we can say that $r(s)$ is stable.\n",
    "- the other part of the table is due to the auxiliary polinomial $p(s)$ and the number of sign changes after $p(s)$ in the table predicts the number of $Re>0$ roots for $p(s)$\n",
    "\n",
    "- Given that we have factored $p(s) = s^2+2 \\Rightarrow s = \\sqrt{-2} = \\pm j\\sqrt{2}$"
   ]
  },
  {
   "cell_type": "markdown",
   "id": "55f0ac0c",
   "metadata": {},
   "source": [
    "## Practical uses: beyond stability"
   ]
  },
  {
   "cell_type": "code",
   "execution_count": null,
   "id": "8f16c91d",
   "metadata": {},
   "outputs": [],
   "source": []
  }
 ],
 "metadata": {
  "kernelspec": {
   "display_name": "Python [conda env:data-science] *",
   "language": "python",
   "name": "conda-env-data-science-py"
  }
 },
 "nbformat": 4,
 "nbformat_minor": 5
}
