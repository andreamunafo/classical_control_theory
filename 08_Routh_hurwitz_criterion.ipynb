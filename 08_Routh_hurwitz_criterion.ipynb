{
 "cells": [
  {
   "cell_type": "code",
   "execution_count": null,
   "id": "2e901fb4",
   "metadata": {},
   "outputs": [],
   "source": [
    "# default_exp routh_hurwitz_criterion"
   ]
  },
  {
   "cell_type": "code",
   "execution_count": null,
   "id": "d463d0ed",
   "metadata": {},
   "outputs": [],
   "source": [
    "#hide\n",
    "%load_ext autoreload\n",
    "%autoreload 2"
   ]
  },
  {
   "cell_type": "code",
   "execution_count": null,
   "id": "daab8e57",
   "metadata": {},
   "outputs": [],
   "source": [
    "#export\n",
    "import numpy as np\n",
    "import matplotlib\n",
    "import matplotlib.pyplot as plt\n",
    "import matplotlib.animation as animation\n",
    "import pandas as pd\n",
    "import time as systime"
   ]
  },
  {
   "cell_type": "code",
   "execution_count": null,
   "id": "f7e9b938",
   "metadata": {},
   "outputs": [],
   "source": [
    "#hide\n",
    "%matplotlib inline"
   ]
  },
  {
   "cell_type": "markdown",
   "id": "8b06b1ff",
   "metadata": {},
   "source": [
    "# Routh-Hurwitz Criterion"
   ]
  },
  {
   "cell_type": "markdown",
   "id": "a955c833",
   "metadata": {},
   "source": [
    "- The Routh–Hurwitz stability criterion is a mathematical test that is a necessary and sufficient condition for the stability of a linear time invariant (LTI) control system\n",
    "- Determine whether all the roots of the characteristic polynomial of a linear system have negative real parts\n",
    "- The importance of the criterion is that the roots $p$ of the characteristic equation of a linear system with negative real parts represent solutions $e^pt$ of the system that are stable (bounded). \n",
    "- The criterion provides a way to determine if the equations of motion of a linear system have only stable solutions, without solving the system directly"
   ]
  },
  {
   "cell_type": "markdown",
   "id": "87de8634",
   "metadata": {},
   "source": [
    "A tabular method can be used to determine the stability when the roots of a higher order characteristic polynomial are difficult to obtain. For an nth-degree polynomial\n",
    "\n",
    "$$\n",
    "D(s)=a_{n}s^{n}+a_{{n-1}}s^{{n-1}}+\\cdots +a_{1}s+a_{0}\n",
    "$$\n",
    "\n",
    "the table has $n + 1$ rows and the following structure:\n",
    "\n",
    "|           |           |           |           |     |\n",
    "|  ------   |  ------   |  ------   |  ------   | --- |\n",
    "| $s^n$     | $a_{n}$   | $a_{n-2}$ | $a_{n-4}$ | $...$ |\n",
    "| $s^{n-1}$ | $a_{n-1}$ | $a_{n-3}$ | $a_{n-5}$ | $...$ |\n",
    "| $...$     | $b_1$     | $b_2$     | $b_3$     | $...$ |\n",
    "| $...$     | $c_1$     | $c_2$     | $c_3$     | $...$ |\n",
    "| $s^{1}$   | $...$     | $...$     | $...$     | $...$ |\n",
    "| $s^{0}$   | $...$     | $...$     | $...$     | $...$ |\n",
    "\n",
    "\n"
   ]
  },
  {
   "cell_type": "markdown",
   "id": "53d53d90",
   "metadata": {},
   "source": [
    "where the elements $b_{i}$ and $c_{i}$ can be computed as follows:\n",
    "\n",
    "$$\n",
    "{\\displaystyle b_{i}={\\frac {a_{n-1}\\times {a_{n-2i}}-a_{n}\\times {a_{n-(2i+1)}}}{a_{n-1}}}.}\n",
    "$$\n",
    "\n",
    "$$\n",
    "{\\displaystyle c_{i}={\\frac {b_{1}\\times {a_{n-(2i+1)}}-a_{n-1}\\times {b_{i+1}}}{b_{1}}}.}\n",
    "$$\n",
    "\n",
    "- When completed, the number of sign changes in the first column will be the number of non-negative roots."
   ]
  },
  {
   "cell_type": "markdown",
   "id": "946be4c0",
   "metadata": {},
   "source": [
    "### Examples"
   ]
  },
  {
   "cell_type": "markdown",
   "id": "04fccdfe",
   "metadata": {},
   "source": []
  },
  {
   "cell_type": "markdown",
   "id": "86bad249",
   "metadata": {},
   "source": [
    "### Special cases"
   ]
  },
  {
   "cell_type": "markdown",
   "id": "5c31798f",
   "metadata": {},
   "source": []
  },
  {
   "cell_type": "markdown",
   "id": "55f0ac0c",
   "metadata": {},
   "source": [
    "## Beyond stability"
   ]
  },
  {
   "cell_type": "code",
   "execution_count": null,
   "id": "8f16c91d",
   "metadata": {},
   "outputs": [],
   "source": []
  }
 ],
 "metadata": {
  "kernelspec": {
   "display_name": "Python [conda env:data-science] *",
   "language": "python",
   "name": "conda-env-data-science-py"
  }
 },
 "nbformat": 4,
 "nbformat_minor": 5
}
