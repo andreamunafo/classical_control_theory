{
 "cells": [
  {
   "cell_type": "code",
   "execution_count": null,
   "metadata": {},
   "outputs": [],
   "source": [
    "#hide\n",
    "from classical_control_theory.core import *"
   ]
  },
  {
   "cell_type": "markdown",
   "metadata": {},
   "source": [
    "# Principles of Automatic Control\n",
    "\n",
    "> This is a course on principles of automatic control using classical control theory. The course uses Python to implement some of the concepts described in class.\n",
    "\n",
    "\n",
    "Some images are taken from the wonderful resources available at [engineeringmedia.com](https://engineeringmedia.com/map-of-control) and I encourage you all to look at his fantastic videos to gain an even better intuition of control theory."
   ]
  },
  {
   "cell_type": "markdown",
   "metadata": {},
   "source": [
    "## Install"
   ]
  },
  {
   "cell_type": "markdown",
   "metadata": {},
   "source": [
    "The notebooks run with python 3.9 and use the following python libraries:\n",
    "- sympy\n",
    "- python control\n",
    "- numpy\n",
    "- pandas\n",
    "- matplotlib \n",
    "- opencv-python\n",
    "\n",
    "Notebook `01_Getting_started_with_Python_and_Jupyter_Notebook.ipynb` provides a short introduction on how to set up an anaconda environment to get you started.\n",
    "\n",
    "\n",
    "`pip install your_project_name`"
   ]
  },
  {
   "cell_type": "markdown",
   "metadata": {},
   "source": [
    "## How to use"
   ]
  },
  {
   "cell_type": "markdown",
   "metadata": {},
   "source": [
    "Each notebook is thought to be independent from every other, so it is possible to run them in any order you prefer."
   ]
  },
  {
   "cell_type": "code",
   "execution_count": null,
   "metadata": {},
   "outputs": [],
   "source": []
  }
 ],
 "metadata": {
  "kernelspec": {
   "display_name": "Python 3 (ipykernel)",
   "language": "python",
   "name": "python3"
  },
  "language_info": {
   "codemirror_mode": {
    "name": "ipython",
    "version": 3
   },
   "file_extension": ".py",
   "mimetype": "text/x-python",
   "name": "python",
   "nbconvert_exporter": "python",
   "pygments_lexer": "ipython3",
   "version": "3.9.7"
  }
 },
 "nbformat": 4,
 "nbformat_minor": 2
}
