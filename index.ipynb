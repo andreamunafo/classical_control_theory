{
 "cells": [
  {
   "cell_type": "code",
   "execution_count": null,
   "metadata": {},
   "outputs": [],
   "source": [
    "#hide\n",
    "from classical_control_theory.core import *"
   ]
  },
  {
   "cell_type": "markdown",
   "metadata": {},
   "source": [
    "# Principles of Automatic Control\n",
    "\n",
    "> This is a course on principles of automatic control using classical control theory. The course uses Python to implement some of the concepts described in class.\n",
    "\n",
    "\n",
    "<table style='margin: 0 auto' rules=none>\n",
    "    <tr>\n",
    "    <td> <img src=\"img/0.philos-and-sensors.png\" alt=\"0.robot\" style=\"height: 300px;\"/> </td>        \n",
    "    <td> <img src=\"img/0.iNeptune-pMarineViewer-sim3.png\" alt=\"0.iNeptune-pMarineViewer-sim3\" style=\"height: 300px;\"/> </td>    \n",
    "    </tr>\n",
    "</table>\n",
    "\n",
    "<table style='margin: 0 auto' rules=none>\n",
    "    <tr>    \n",
    "    <td> <img src=\"img/0.pathplan_philos_07-21_1312_combined.png\" alt=\"0.pathplan_philos_07-21_1312_combined\" style=\"width: 750px;\"/> </td>\n",
    "    </tr>\n",
    "</table>\n",
    "\n",
    "## Credits\n",
    "- Images above are from the paper _Conlan Cesar, Benjamin Whetton, Michael DeFilippo, Michael Benjamin, Michael Sacarny, Scott Reed, Andrea Munafo, Coordinating Multiple Autonomies to Improve Mission Performance, OCEANS 2021 MTS/IEEE, October, 2021_\n",
    "\n",
    "- _Some images in the notebooks have been taken from the wonderful resources available at [engineeringmedia.com](https://engineeringmedia.com/map-of-control) and I encourage you all to look at his fantastic videos to gain an even better intuition of control theory._\n"
   ]
  },
  {
   "cell_type": "markdown",
   "metadata": {},
   "source": [
    "## Install"
   ]
  },
  {
   "cell_type": "markdown",
   "metadata": {},
   "source": [
    "The notebooks run with python 3.9 and use the following python libraries:\n",
    "- sympy\n",
    "- python control\n",
    "- numpy\n",
    "- pandas\n",
    "- matplotlib \n",
    "- opencv-python\n",
    "\n",
    "Notebook `01_Getting_started_with_Python_and_Jupyter_Notebook.ipynb` provides a short introduction on how to set up an anaconda environment to get you started.\n",
    "\n",
    "\n",
    "`pip install your_project_name`"
   ]
  },
  {
   "cell_type": "markdown",
   "metadata": {},
   "source": [
    "## How to use"
   ]
  },
  {
   "cell_type": "markdown",
   "metadata": {},
   "source": [
    "Each notebook is thought to be independent from every other, so it is possible to run them in any order you prefer."
   ]
  },
  {
   "cell_type": "code",
   "execution_count": null,
   "metadata": {},
   "outputs": [],
   "source": []
  }
 ],
 "metadata": {
  "kernelspec": {
   "display_name": "Python 3 (ipykernel)",
   "language": "python",
   "name": "python3"
  }
 },
 "nbformat": 4,
 "nbformat_minor": 2
}
