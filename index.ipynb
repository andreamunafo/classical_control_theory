{
 "cells": [
  {
   "cell_type": "markdown",
   "metadata": {},
   "source": [
    "# Principles of Automatic Control\n",
    "\n",
    "> This is a course on principles of automatic control using classical control theory. The course uses Python to implement some of the concepts described in class."
   ]
  },
  {
   "cell_type": "markdown",
   "metadata": {},
   "source": [
    "<table style='margin: 0 auto' rules=none>\n",
    "    <tr>\n",
    "    <td> <img src=\"img/0.philos-and-sensors.png\" alt=\"0.robot\" style=\"height: 300px;\"/> </td>        \n",
    "    <td> <img src=\"img/0.iNeptune-pMarineViewer-sim3.png\" alt=\"0.iNeptune-pMarineViewer-sim3\" style=\"height: 300px;\"/> </td>    \n",
    "    </tr>\n",
    "</table>\n",
    "\n",
    "<table style='margin: 0 auto' rules=none>\n",
    "    <tr>    \n",
    "    <td> <img src=\"img/0.pathplan_philos_07-21_1312_combined.png\" alt=\"0.pathplan_philos_07-21_1312_combined\" style=\"width: 750px;\"/> </td>\n",
    "    </tr>\n",
    "</table>"
   ]
  },
  {
   "cell_type": "markdown",
   "metadata": {},
   "source": [
    "## Install"
   ]
  },
  {
   "cell_type": "markdown",
   "metadata": {},
   "source": [
    "The notebooks run with python 3.9 and use the following python libraries:\n",
    "- sympy\n",
    "- python control\n",
    "- numpy\n",
    "- pandas\n",
    "- matplotlib \n",
    "- opencv-python\n",
    "\n",
    "Notebook `01_Getting_started_with_Python_and_Jupyter_Notebook.ipynb` provides a short introduction on how to set up an anaconda environment to get you started."
   ]
  },
  {
   "cell_type": "markdown",
   "metadata": {},
   "source": [
    "## How to use"
   ]
  },
  {
   "cell_type": "markdown",
   "metadata": {},
   "source": [
    "Each notebook is thought to be independent from every other, so it is possible to run them in any order you prefer."
   ]
  },
  {
   "cell_type": "markdown",
   "metadata": {},
   "source": [
    "## Acknowledgements and references\n",
    "- Images above are from the paper _Conlan Cesar, Benjamin Whetton, Michael DeFilippo, Michael Benjamin, Michael Sacarny, Scott Reed, Andrea Munafo, Coordinating Multiple Autonomies to Improve Mission Performance, OCEANS 2021 MTS/IEEE, October, 2021_\n",
    "\n",
    "- _Some of the images and content used in the notebooks have been based on resources available from [engineeringmedia.com](https://engineeringmedia.com/map-of-control). The website and the youtube videos are a fantastic resource on control systems._\n",
    "\n",
    "- The pendulum example is inspired by [Control tutorials for Matlab and Simulink](hhttps://ctms.engin.umich.edu/CTMS/index.php?aux=Activities_Pendulum)\n",
    "\n",
    "- Relevant textbooks used to prepare these notebooks are reported in `00_Syllabus.ipynb`. "
   ]
  },
  {
   "cell_type": "markdown",
   "metadata": {},
   "source": [
    "## Additional resources\n",
    "\n",
    "- [Control systems academy](http://www.controlsystemsacademy.com/)\n",
    "- [Process Dynamics and Control in Python](https://apmonitor.com/pdc/index.php)\n",
    "- [Karl J. Åström and Richard M. Murray, Feedback Systems: An Introduction for Scientists and Engineers](http://www.cds.caltech.edu/~murray/amwiki/index.php/Main_Page)\n",
    "- [Lecture series on Control Engineering by Prof. Madan Gopal](https://www.youtube.com/playlist?list=PLghJObT_RyfLmKRT86TquJhG6QuiHZ6Pi)\n",
    "- [Designing Lead and Lag Compensators in Matlab and Simulink](https://ctms.engin.umich.edu/CTMS/index.php?aux=Extras_Leadlag)"
   ]
  },
  {
   "cell_type": "markdown",
   "metadata": {},
   "source": [
    "--------------------"
   ]
  }
 ],
 "metadata": {
  "kernelspec": {
   "display_name": "Python 3 (ipykernel)",
   "language": "python",
   "name": "python3"
  }
 },
 "nbformat": 4,
 "nbformat_minor": 2
}
