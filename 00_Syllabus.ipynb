{
 "cells": [
  {
   "cell_type": "code",
   "execution_count": null,
   "id": "8520dff0",
   "metadata": {},
   "outputs": [],
   "source": [
    "# default_exp syllabus"
   ]
  },
  {
   "cell_type": "code",
   "execution_count": null,
   "id": "bcf51efc",
   "metadata": {},
   "outputs": [],
   "source": [
    "#hide\n",
    "from nbdev.showdoc import *"
   ]
  },
  {
   "cell_type": "markdown",
   "id": "315f49cb",
   "metadata": {},
   "source": [
    "# Syllabus - Principles of Automatic Control"
   ]
  },
  {
   "cell_type": "markdown",
   "id": "357a866e",
   "metadata": {},
   "source": [
    "------------------------------"
   ]
  },
  {
   "cell_type": "markdown",
   "id": "ae8d59a5",
   "metadata": {},
   "source": [
    "Instructor: Andrea Munafo\n",
    "\n",
    "_andrea.munafo@unipi.it_ \n",
    "\n",
    "Office hours: After lecture"
   ]
  },
  {
   "cell_type": "markdown",
   "id": "e3764576",
   "metadata": {},
   "source": [
    "<table style='margin: 0 auto' rules=none>\n",
    "    <tr>\n",
    "    <!--td> <img src=\"img/0.robot-and-sensors.png\" alt=\"0.robot\" style=\"height: 500px;\"/> </td-->\n",
    "    <td> <img src=\"img/0.philos-and-sensors.png\" alt=\"0.robot\" style=\"height: 400px;\"/> </td>        \n",
    "    <td> <img src=\"img/0.iNeptune-pMarineViewer-sim3.png\" alt=\"0.iNeptune-pMarineViewer-sim3\" style=\"height: 400px;\"/> </td>    \n",
    "    </tr>\n",
    "</table>\n",
    "\n",
    "<table style='margin: 0 auto' rules=none>\n",
    "    <tr>    \n",
    "    <td> <img src=\"img/0.pathplan_philos_07-21_1312_combined.png\" alt=\"0.pathplan_philos_07-21_1312_combined\" style=\"width: 1000px;\"/> </td>\n",
    "    </tr>\n",
    "</table>"
   ]
  },
  {
   "cell_type": "markdown",
   "id": "79fd31f5",
   "metadata": {},
   "source": [
    "* _C Cesar, B Whetton, P Opgenoorth, M DeFilippo, M Benjamin, A Munafo, Coordinating Multiple Autonomies to Improve Mission Performance, OCEANS 2021 MTS/IEEE, October, 2021._"
   ]
  },
  {
   "cell_type": "markdown",
   "id": "f0d592ea",
   "metadata": {},
   "source": [
    "## Course Meeting Times\n",
    "Lectures: 2 sessions / week, Wednesday 3 hour / session (2.30pm - 5.30pm) and Thursday 2 hour / session (3.30pm - 5.30pm)"
   ]
  },
  {
   "cell_type": "markdown",
   "id": "1e2275e1",
   "metadata": {},
   "source": [
    "## Course Description\n",
    "\n",
    "This course introduces the design of feedback control systems. Topics include the properties and advantages of feedback systems, time-domain and frequency-domain performance measures, stability and degree of stability, the Root locus method, Nyquist criterion, and frequency-domain design.\n",
    "\n",
    "- A bit on Python/Jupyter notebook\n",
    "- Open loop vs Closed Loop\n",
    "- Transfer functions and Laplace transform\n",
    "- Block Diagrams\n",
    "- Reponse of a system\n",
    "- Frequency response and Bode plots\n",
    "- Final Value Theorem and Steady State\n",
    "- System Stability and Control\n",
    "- The Root Locus Method\n",
    "- Nyquist Stability Criterion\n",
    "- PID controllers\n",
    "- PID and root locus\n",
    "- Gain and phase margins\n",
    "- Sensitivity Functions\n",
    "- Lead/Lag compensators"
   ]
  },
  {
   "cell_type": "markdown",
   "id": "88be27b1",
   "metadata": {},
   "source": [
    "## Textbook\n",
    "A useful but not mandatory textbook for this class is:\n",
    "\n",
    "- Ogata, Katsuhiko. Modern Control Engineering. 4th ed. Prentice Hall, 2002.\n",
    "- Richard C. Dorf and Robert H. Bishop IE, Modern Control Systems (13th Edition) \n",
    "\n",
    "\n",
    "Other texts which might be helpful:\n",
    "\n",
    "- Franklin, Gene, J. David Powell, and Abbas Emami-Naeini. Feedback Control of Dynamic Systems. 6th ed. Prentice Hall, 2009. ISBN: 9780136019695.\n",
    "\n",
    "- Van de Vegte, John. Feedback Control Systems. 3rd ed. Prentice Hall, 1994. ISBN: 9780002085069.\n",
    "\n",
    "- Kuo, Benjamin. Automatic Control Systems. 8th ed. John Wiley & Sons, 2003. ISBN: 9780471381488.\n",
    "\n",
    "- Ogata, Katsuhiko. Solving Control Engineering Problems with MATLAB. Prentice Hall, 1993. ISBN: 9780130459077.\n",
    "\n",
    "\n",
    "Or in Italian\n",
    "\n",
    "- Bolzern, Scattolini, Schiavoni. Fondamenti di Controlli Automatici, 2nd ed. McGraw-Hill.\n"
   ]
  },
  {
   "cell_type": "markdown",
   "id": "761a0c94",
   "metadata": {},
   "source": [
    "## Use of Python / MATLAB®\n",
    "\n",
    "The use of a software package like Python or MATLAB is very helpful in the study of Feedback Systems. \n",
    "The software can best be used initially to check work that is first done traditionally with pencil and paper. This is particularly helpful when verifying polar plots (Nyquist plots), Bode diagrams and root loci when first attempting to sketch these functions. \n",
    "In addition, step responses in the time domain can be examined in order to build an intuitive sense of the relations between time and frequency domain behavior. \n",
    "We also will use Pyton to check the validity of simplifying approximations that are often made when carrying out preliminary designs. Finally we can study more complex problems with a computer-aided design package without the enormous burden of doing extensive computations. \n",
    "\n",
    "We suggest that everyone become familiar with the use of Python or MATLAB. Remember that we want you to come away with an understanding of feedback theory in some depth. The computer is to aid in achieving this understanding and should be used intelligently as an engineering tool."
   ]
  },
  {
   "cell_type": "markdown",
   "id": "a62cc58d",
   "metadata": {},
   "source": [
    "## Grading"
   ]
  },
  {
   "cell_type": "markdown",
   "id": "ae0cacca",
   "metadata": {},
   "source": [
    "- Homeworks (50%)\n",
    "- Final exam (50%)"
   ]
  },
  {
   "cell_type": "markdown",
   "id": "ab8e664c",
   "metadata": {},
   "source": [
    "---------------------"
   ]
  }
 ],
 "metadata": {
  "kernelspec": {
   "display_name": "Python [conda env:data-science] *",
   "language": "python",
   "name": "conda-env-data-science-py"
  }
 },
 "nbformat": 4,
 "nbformat_minor": 5
}
