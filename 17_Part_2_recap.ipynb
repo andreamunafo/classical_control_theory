{
 "cells": [
  {
   "cell_type": "code",
   "execution_count": null,
   "id": "19dd6e9e",
   "metadata": {},
   "outputs": [],
   "source": [
    "# default_exp part_2_recap"
   ]
  },
  {
   "cell_type": "markdown",
   "id": "42758eba",
   "metadata": {},
   "source": [
    "# Part 2 Recap"
   ]
  },
  {
   "cell_type": "markdown",
   "id": "e4321738",
   "metadata": {},
   "source": [
    "--------------------"
   ]
  },
  {
   "cell_type": "markdown",
   "id": "ea09c06e",
   "metadata": {},
   "source": [
    "## Nyquist Stability Criterion"
   ]
  },
  {
   "cell_type": "markdown",
   "id": "b15951c6",
   "metadata": {},
   "source": [
    "- **Goal**\n",
    "    - When we want to study the stability of the closed loop system:\n",
    "        - We want to find the roots of $1+𝐺(𝑠)𝐻(𝑠)=0$, \n",
    "        - this corresponds to take the open loop transfer function $G(s)H(s)$, add 1 and find its zeros.\n",
    "\n",
    "- **Why is this difficult**\n",
    "    - The system can be high order (e.g. order 50), \n",
    "    - Finding zeros would only give us stability information, \n",
    "    - Other information could be useful (e.g. stability margins).\n",
    "\n"
   ]
  },
  {
   "cell_type": "markdown",
   "id": "4c9f85ae",
   "metadata": {},
   "source": [
    "#### Cauchy's argument principle\n",
    "\n",
    "> - We can tell the relative difference between the number of poles and zeros inside of a contour by counting how many time the plot circles the origin and in which direction\n",
    "\n",
    "\n",
    "- Apply Caushy's argument principle to know if there are zeros of $1+GH$ in the right half plane (in which case the system is unstable)\n",
    "\n",
    "- Plot $GH$ and shift the origin to the left by 1: we can look at how many circling of the point $-1+0j$ the plot of $GH$ does."
   ]
  },
  {
   "cell_type": "markdown",
   "id": "bea6a678",
   "metadata": {},
   "source": [
    "#### The Nyquist Plot"
   ]
  },
  {
   "cell_type": "markdown",
   "id": "c55461c2",
   "metadata": {},
   "source": [
    "**Steps:**\n",
    "\n",
    "- Take the open loop transfer function $GH$\n",
    "- Plot the Nyquist plot of $GH$ \n",
    "    - 1. Set $s=j\\omega$ in the transfer function\n",
    "    - 2. Sweep $\\omega \\in [0, \\infty]$ and plot the resulting complex numbers\n",
    "    - 3. Draw the reflection about the real axis to account for negative $\\omega$\n",
    "    - Note that the Nyquist contour is traced in the **clock-wise** direction (by convention)\n",
    "\n",
    "Key is step #2:\n",
    "\n",
    "- For simple transfer functions there are only four points that we need to solve for\n",
    "  - 1. $|G|$ and $\\angle G$ at $\\omega=0$ (start of the plot)\n",
    "  - 2. $|G|$ and $\\angle G$ at $\\omega=\\infty$ (mid point of the plot)\n",
    "  - 3. Intersections with the imaginary axis \n",
    "  - 4. Intersections with the real axis \n",
    "  \n",
    "\n",
    "- Count the number of times the point $-1$ is encircled and in which direction\n",
    "- Determine the relative number of poles and zeros inside the nyquist contour."
   ]
  },
  {
   "cell_type": "markdown",
   "id": "ddb57529",
   "metadata": {},
   "source": [
    "Therefore:\n",
    "$$\n",
    "Z = N + P\n",
    "$$\n",
    "\n",
    "where \n",
    "- $Z$ is the number of zeros in the right half plane (or poles in closed loop)\n",
    "- $N$ is the number of clockwise encirclements of -1\n",
    "- $P$ is the number of open loop right half plane poles"
   ]
  },
  {
   "cell_type": "markdown",
   "id": "7a1a3b91",
   "metadata": {},
   "source": [
    "## Stability margins"
   ]
  },
  {
   "cell_type": "markdown",
   "id": "84f38123",
   "metadata": {},
   "source": [
    "- Gain and Phase margin: extra gain or phase that we have available before the system starts to oscillates or become unstable\n",
    "\n",
    "- Robustness of the system\n",
    "- Makes it possible to quantify how stable a system is\n",
    "  - Systems (or designs) that have less margin could be considered as being \"less\" stable: smaller variations in the system could lead to instability\n",
    "  \n",
    "- We want our controller to be robust to these because we cannot know our system perfectly and hence we need margins.\n",
    "\n",
    "- The more uncertainty we have the more margin we should design in.  \n",
    "\n",
    "\n",
    "- **Gain margin**: The gain required to cross the 0dB line at the frequency where phase is $-180^o$\n",
    "- **Phase margin**: how much phase delay takes to make $-180^o$ phase at the 0 $dB$ gain frequency. "
   ]
  },
  {
   "cell_type": "markdown",
   "id": "10bbdb0b",
   "metadata": {},
   "source": [
    "<table style='margin: 0 auto' rules=none>\n",
    "<tr>\n",
    "<td> <img src=\"img/63.stability_margins-bode-2-1.png\" alt=\"img/63.stability_margins-bode-2.png\" style=\"width: 500px;\"/> </td>\n",
    "<td> <img src=\"img/64.stability_margins-bode-phase-margin-1.png\" alt=\"img/64.stability_margins-bode-phase-margin-1.png\" style=\"width: 500px;\"/> </td>\n",
    "</tr>\n",
    "</table>"
   ]
  },
  {
   "cell_type": "markdown",
   "id": "e51225a2",
   "metadata": {},
   "source": [
    "- Uncertainty in one specific parameters can affect you more than you think."
   ]
  },
  {
   "cell_type": "markdown",
   "id": "8b45fb8b",
   "metadata": {},
   "source": [
    "## Loop analysis and loop shaping\n",
    "\n",
    "**Feedback Goals**\n",
    "\n",
    "- Stability of the closed loop system\n",
    "- Performance while tracking inputs\n",
    "  - tracking error, typically specified in terms of steady state error to specific inputs:\n",
    "     - e.g., error to step inputs less than $5\\%$\n",
    "  - behaviour of the transient, typically specified in terms of bandwidth, rise time, settling time, damping ratio, overshoot (these are requirements for the transfer function between $Y$ and $Y_{ref}$).\n",
    "- Robustness to noise measurement and disturbances\n",
    "\n",
    "\n",
    "- One advantage of the Nyquist stability theorem is that it is based on the loop transfer function $L = GR$, \n",
    "- Easy to see how the controller influences the loop transfer function. \n",
    "- **Loop shaping**: Choose a compensator that gives a loop transfer function with a desired shape. "
   ]
  },
  {
   "cell_type": "markdown",
   "id": "972705aa",
   "metadata": {},
   "source": [
    "## Sensitivity and Complementary Sensitivity Functions\n",
    "\n",
    "We want to design $R$ so that all transfer functions have good properties\n",
    "- tracking (at freq. where this is important)\n",
    "- disturbance rejection (at freq. where this is important)\n",
    "- noise attenuation (at freq. where this is important)\n",
    "\n",
    "\n",
    "- $L(s)=G(s)R(s)$\n",
    "- $S(s)=\\frac{1}{1+L(s)}$\n",
    "- $T(s)=\\frac{L}{1+L(s)}$\n",
    "\n",
    "<table style='margin: 0 auto' rules=none>\n",
    "<tr>\n",
    "    <td> <img src=\"img/loop-shaping-splut-mag.png\" alt=\"sensitivity-and-complementary-with-freq\" style=\"width: 700px\"/> </td>\n",
    "    <td> <img src=\"img/loop-shapinig-L-mag.png\" alt=\"loop-shapinig-L-mag\" style=\"width: 700px\"/> </td>\n",
    "</tr>\n",
    "</table>   \n",
    "\n",
    "\n",
    "\n",
    "- Is a trial-and-error procedure\n",
    "- We typically start with a Bode plot of the process transfer function $G$\n",
    "- Choosing the gain crossover frequency $\\omega_{gc}$ is a major design decision: a compromise between attenuation of load disturbances and injection of measurement noise\n",
    "- Finally shape the loop transfer function by changing the controller gain and adding poles and zeros to the controller transfer function\n",
    "- The controller gain at low frequencies can be increased by so-called _lag compensation,_ and the behavior around the crossover frequency can be changed by so-called _lead compensation._\n",
    "\n",
    "\n",
    "_Nominal sensitivity peak_\n",
    "$$\n",
    "M_s = \\max_{0 \\leq \\omega \\leq \\infty} | S(j\\omega) | = \\max_{0 \\leq \\omega \\leq \\infty} \\Big| \\frac{1}{1+G(j\\omega)R(j\\omega)} \\Big|\n",
    "$$\n",
    "\n",
    "- $M_s$ gives us an indication of how far $L$ is from -1\n",
    "\n"
   ]
  },
  {
   "cell_type": "markdown",
   "id": "e3ff031a",
   "metadata": {},
   "source": [
    "## Relationship between loop function harmonic response and closed loop\n",
    "\n",
    "- Relationship between the harmonic response of the loop transfer function $L(j\\omega)$ and the closed loop $H(j\\omega)$\n",
    "\n",
    "$$\n",
    "|H(j\\omega)| = \\frac{|L(j\\omega)|}{|1+L(j\\omega)|} = \\frac{|L(j\\omega)|}{\\sqrt{1+|L(j\\omega)|^2}}\n",
    "$$\n",
    "\n",
    "\n",
    "- Translation of design requirements into requirements on the Bode plot of the loop funtion (barriers)\n",
    "- The \"barriers\" on the Bode plots are there to help us shape the desired harmonic response of the loop function\n",
    "- The controller is designed so that the loop function always stays within the admissible regions"
   ]
  },
  {
   "cell_type": "markdown",
   "id": "5b4791ba",
   "metadata": {},
   "source": [
    "## Root Locus\n",
    "\n",
    "- System with multiple known parameters, and one unknown or varying parameter (K)\n",
    "- Changing $K$ changes the locations of the poles\n",
    "- How to design a system that meets the requirements:\n",
    "   - What value of $K$ should I choose to meet the requirements (i.e., that places the poles at the correct location in the $s$ plane)\n",
    "- What is the effect of variations on a control system that has been already designed:\n",
    "   - How sensitive is the system to a value of $K$ that is slightly different than what we have estimated (or predicted).\n",
    "   \n",
    "- Rules to sketch the root locus"
   ]
  },
  {
   "cell_type": "markdown",
   "id": "9d20628b",
   "metadata": {},
   "source": [
    "- Translate requirements into s-plane requirements:\n",
    "\n",
    "<table style='margin: 0 auto' rules=none>\n",
    "<tr>\n",
    "    <td> <img src=\"img/root_locus-3.png\" alt=\"root-locus-constraints\" style=\"height: 250px;\"/> </td>\n",
    "    <td> <img src=\"img/root_locus-2.png\" alt=\"root-locus-constraints\" style=\"height: 250px;\"/> </td>\n",
    "    <td> <img src=\"img/root_locus-1.png\" alt=\"root-locus-constraints\" style=\"height: 250px;\"/> </td>\n",
    "</tr>\n",
    "</table>"
   ]
  },
  {
   "cell_type": "markdown",
   "id": "93e99d65",
   "metadata": {},
   "source": [
    "- **The angle condition:** $\\angle (G(s)) = (2n + 1)\\pi$\n",
    "\n",
    "- **The magnitude condition:** $|KG(s)|=1$"
   ]
  },
  {
   "cell_type": "markdown",
   "id": "e2a1ca0b",
   "metadata": {},
   "source": [
    "## Phase Lead/Phase Lag Compensators"
   ]
  },
  {
   "cell_type": "markdown",
   "id": "33217e1f",
   "metadata": {},
   "source": [
    "- A lead compensator can increase the stability or speed of reponse of a system; \n",
    "- A lag compensator can reduce (but not eliminate) the steady-state error. \n",
    "\n",
    "$$\n",
    "R(s) = \\frac{\\frac{s}{w_z}+1}{\\frac{s}{w_p}+1} = \\frac{w_p}{w_z}\\frac{s + w_z}{s + w_p}\n",
    "$$\n",
    "\n",
    "Lead compensator:\n",
    "- $w_z < w_p$\n",
    "- $K=\\frac{w_p}{w_z}$ (gain)\n",
    "\n",
    "Lag compensator\n",
    "- $w_z > w_p$\n",
    "- $K=\\frac{w_p}{w_z}$ (gain)\n",
    "\n",
    "\n",
    "- Multiplying the two T.F. together means adding everything together on the Bode plot\n",
    "- Lead/Lag compensator:\n",
    "   - Behaves like a real zero early on, at low frequency\n",
    "   - Until the real pole pulls it back at high frequency\n",
    "   - See blue line for its approximate representation\n",
    "\n",
    "<table style='margin: 0 auto' rules=none>\n",
    "<tr>\n",
    "<td> <img src=\"img/lead-lag-compensator-lead-bode-ex-1.png\" alt=\"lead-lag-compensator-lead-bode-ex\" style=\"width: 550px;\"/> </td>\n",
    "<td> <img src=\"img/lead-lag-compensator-lead-bode-ex-3.png\" alt=\"lead-lag-compensator-lead-bode-ex\" style=\"width: 550px;\"/> </td>\n",
    "</tr>\n",
    "</table>\n",
    "\n",
    "- Using the root locus and Bode plots to place the zero and pole"
   ]
  },
  {
   "cell_type": "markdown",
   "id": "5d284879",
   "metadata": {},
   "source": [
    "## PID Controllers"
   ]
  },
  {
   "cell_type": "markdown",
   "id": "085b7a6a",
   "metadata": {},
   "source": [
    "- PID = Proportional-Integral-Derivative\n",
    "   - Describes how the error term is treated before being sum and sent into the plant \n",
    "\n",
    "- It is a simple and effective controller in a wide range of applications\n",
    "- Majority of controllers in industrial applications are PIDs\n",
    "\n",
    "\n",
    "The general structure of a PID controller is:\n",
    "\n",
    "<table style='margin: 0 auto' rules=none>\n",
    "<tr>\n",
    "<td> <img src=\"img/PID-Controller-general.png\" alt=\"PID-Controller-general\" style=\"width: 550px;\"/> </td>\n",
    "</tr>\n",
    "</table>\n",
    "\n",
    "\n",
    "- The three gains $K_p, K_i, K_d$ are adjustable and can be tuned to the specific application\n",
    "- Varying $K_p, K_i, K_d$ means adjusting how sensitive the system is across the three paths"
   ]
  },
  {
   "cell_type": "markdown",
   "id": "8b9020b1",
   "metadata": {},
   "source": [
    "- Ziegler Nichols tuning rules\n",
    "- Practical problems:\n",
    "  - Derivative is sensitive to noise\n",
    "     - Filtering and Set Point Weighting\n",
    "  - If the integral of the error grows too much, the control output might hit actuation limits\n",
    "     - Integral windup: Initializing the controller integral to a desired value or zeroing the integral value every time the error is equal to, or crosses zero reduces the problem.\n",
    "     "
   ]
  },
  {
   "cell_type": "markdown",
   "id": "c3e40670",
   "metadata": {},
   "source": [
    "- Solving the Cruise Control Problem deploying a PID controller on a car"
   ]
  },
  {
   "cell_type": "markdown",
   "id": "60baf9be",
   "metadata": {},
   "source": [
    "**Fin**"
   ]
  },
  {
   "cell_type": "code",
   "execution_count": null,
   "id": "54ac70d7",
   "metadata": {},
   "outputs": [],
   "source": []
  }
 ],
 "metadata": {
  "kernelspec": {
   "display_name": "Python 3 (ipykernel)",
   "language": "python",
   "name": "python3"
  }
 },
 "nbformat": 4,
 "nbformat_minor": 5
}
