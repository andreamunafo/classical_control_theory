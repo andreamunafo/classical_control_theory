{
 "cells": [
  {
   "cell_type": "code",
   "execution_count": null,
   "id": "19dd6e9e",
   "metadata": {},
   "outputs": [],
   "source": [
    "# default_exp assignment_part_1_solution"
   ]
  },
  {
   "cell_type": "markdown",
   "id": "42758eba",
   "metadata": {},
   "source": [
    "# Assignment Part 1 Solution"
   ]
  },
  {
   "cell_type": "markdown",
   "id": "e4321738",
   "metadata": {},
   "source": [
    "--------------------"
   ]
  },
  {
   "cell_type": "markdown",
   "id": "dec6648b",
   "metadata": {},
   "source": [
    "## Laplace Transforms"
   ]
  },
  {
   "cell_type": "markdown",
   "id": "94c2d2fd",
   "metadata": {},
   "source": [
    "1. Calculate the Laplace Transform $X(s)$ of the signal $x(t)$:\n",
    "\n",
    "$$\n",
    "x(t) = (4t-3cos(5t))e^{-2t}\n",
    "$$"
   ]
  },
  {
   "cell_type": "markdown",
   "id": "47751db8",
   "metadata": {},
   "source": [
    "$$\n",
    "x(t)=4te^{-2t} - 3cos(5t)e^{-2t} \\rightarrow X(s) = 4 \\frac{1}{(s+2)^2} - 3 \\frac{(s+2)}{(s+2)^2 + 25}\n",
    "$$"
   ]
  },
  {
   "cell_type": "markdown",
   "id": "aac0acda",
   "metadata": {},
   "source": [
    "Let's verify it with Sympy"
   ]
  },
  {
   "cell_type": "code",
   "execution_count": null,
   "id": "f7701621",
   "metadata": {},
   "outputs": [],
   "source": [
    "import matplotlib.pyplot as plt # import matplotlib - it will be useful later.\n",
    "import sympy # import sympy\n",
    "t, s = sympy.symbols('t, s')"
   ]
  },
  {
   "cell_type": "code",
   "execution_count": null,
   "id": "de739b64",
   "metadata": {},
   "outputs": [
    {
     "name": "stdout",
     "output_type": "stream",
     "text": [
      "4*t*exp(-2*t) -3*exp(-2*t)*cos(5*t)\n"
     ]
    }
   ],
   "source": [
    "f1 = 4*t*sympy.exp(-2*t)\n",
    "f2 = - 3*sympy.cos(5*t)*sympy.exp(-2*t)\n",
    "print('{} {}'.format(f1, f2)) "
   ]
  },
  {
   "cell_type": "code",
   "execution_count": null,
   "id": "8353b0d1",
   "metadata": {},
   "outputs": [
    {
     "name": "stdout",
     "output_type": "stream",
     "text": [
      "4/(s + 2)**2 -(3*s + 6)/((s + 2)**2 + 25)\n"
     ]
    }
   ],
   "source": [
    "F1 = sympy.laplace_transform(f1, t, s, noconds=True)\n",
    "F2 = sympy.laplace_transform(f2, t, s, noconds=True)\n",
    "print('{} {}'.format(F1, F2)) "
   ]
  },
  {
   "cell_type": "markdown",
   "id": "b0c20fcf",
   "metadata": {},
   "source": [
    "2. Calculate the Inverse Laplace Transform $g(t)$ of the transfer function $G(s)$:\n",
    "\n",
    "$$\n",
    "G(s)=2 + \\frac{3}{2s^3+3s^2+s}\n",
    "$$"
   ]
  },
  {
   "cell_type": "markdown",
   "id": "f36a9955",
   "metadata": {},
   "source": [
    "$$\n",
    "G(s)=2 + \\frac{3}{2s^3+3s^2+s} = 2 + \\frac{3}{s(2s^2+3s+1)} = 2 + \\frac{3}{2s(s+1)(s+\\frac{1}{2})} = 2 + \\frac{3}{s} + \\frac{3}{s+1} + \\frac{-6}{s+\\frac{1}{2}}\n",
    "$$\n",
    "\n",
    "$$\n",
    "g(t) = 2\\delta(t) + 3 + 3e^{-t} -6e^{-0.5t}\n",
    "$$"
   ]
  },
  {
   "cell_type": "code",
   "execution_count": null,
   "id": "bf38669c",
   "metadata": {},
   "outputs": [],
   "source": [
    "F1 = 2\n",
    "F2 = 3/(2*s**3+3*s**2+s)"
   ]
  },
  {
   "cell_type": "code",
   "execution_count": null,
   "id": "665cc6f6",
   "metadata": {},
   "outputs": [
    {
     "name": "stdout",
     "output_type": "stream",
     "text": [
      "2*DiracDelta(t) + 3*Heaviside(t) + 3*exp(-t)*Heaviside(t) - 6*exp(-t/2)*Heaviside(t)\n"
     ]
    }
   ],
   "source": [
    "f1 = sympy.inverse_laplace_transform(F1, s, t)\n",
    "f2 = sympy.inverse_laplace_transform(F2, s, t)\n",
    "print('{} + {}'.format(f1, f2)) "
   ]
  },
  {
   "cell_type": "code",
   "execution_count": null,
   "id": "9afea30a",
   "metadata": {},
   "outputs": [
    {
     "name": "stdout",
     "output_type": "stream",
     "text": [
      "2*DiracDelta(t) + 3*Heaviside(t) + 3*exp(-t)*Heaviside(t) - 6*exp(-t/2)*Heaviside(t)\n"
     ]
    }
   ],
   "source": [
    "f3 = sympy.inverse_laplace_transform(F1+F2, s, t)\n",
    "print('{}'.format(f3)) "
   ]
  },
  {
   "cell_type": "markdown",
   "id": "1b449bd9",
   "metadata": {},
   "source": [
    "## Block Diagrams\n",
    "\n",
    "3. Calculate the equivalent transfer function $G_t(s)=\\frac{Y(s)}{R_1(s)}$ of the following block diagram:\n",
    "\n",
    "<tr>\n",
    "<td> <img src=\"img/homework/block-diagram-1.png\" alt=\"block-diagram.png\" style=\"width: 550px;\"/> </td>\n",
    "</tr>\n",
    "\n"
   ]
  },
  {
   "cell_type": "markdown",
   "id": "54672357",
   "metadata": {},
   "source": [
    "<tr>\n",
    "<td> <img src=\"img/homework/block-diagram-solution-1.png\" alt=\"block-diagram.png\" style=\"width: 550px;\"/> </td>\n",
    "</tr>\n",
    "\n",
    "\n",
    "<tr>\n",
    "<td> <img src=\"img/homework/block-diagram-solution-2.png\" alt=\"block-diagram.png\" style=\"width: 550px;\"/> </td>\n",
    "</tr>\n",
    "\n",
    "<tr>\n",
    "<td> <img src=\"img/homework/block-diagram-solution-3.png\" alt=\"block-diagram.png\" style=\"width: 550px;\"/> </td>\n",
    "</tr>"
   ]
  },
  {
   "cell_type": "markdown",
   "id": "fe4f9d22",
   "metadata": {},
   "source": [
    "$$\n",
    "\\frac{G_1G_4(G_2+G_3)}{1+G_1G_4H_1 + H_2G_1G_4(G_2+G_3)}\n",
    "$$"
   ]
  },
  {
   "cell_type": "markdown",
   "id": "a4ab2e35",
   "metadata": {},
   "source": [
    "## System Response"
   ]
  },
  {
   "cell_type": "markdown",
   "id": "424bd384",
   "metadata": {},
   "source": [
    "4. Write the transfer function to a step input of a second order system characterised by:\n",
    "- Static gain $G(0)=5$\n",
    "- Damping ratio $\\xi=0.5$ \n",
    "- Settling time $t_s=3 s$\n",
    "- No zeros"
   ]
  },
  {
   "cell_type": "markdown",
   "id": "6a552da1",
   "metadata": {},
   "source": [
    "We would like a system with form:\n",
    "$$\n",
    "\\frac{K}{s^2+2\\xi\\omega_ns+\\omega_n^2}\n",
    "$$\n",
    "\n",
    "we also know that:\n",
    "\n",
    "$$\n",
    "t_s \\approx -\\frac{1}{\\xi\\omega_n}ln(0.05)\\;\\; s\n",
    "$$\n",
    "\n",
    "from which:\n",
    "\n",
    "$$\n",
    "\\omega_n = -\\frac{1}{3\\cdot0.5}ln(0.05) = 2 \\;\\; rad/s\n",
    "$$\n",
    "\n",
    "which means:\n",
    "\n",
    "$$\n",
    "\\frac{K}{s^2+2s+4}\n",
    "$$\n",
    "\n",
    "since we want $G(0)=5 \\rightarrow K=20$\n",
    "\n",
    "$$\n",
    "\\frac{20}{s^2+2s+4}\n",
    "$$"
   ]
  },
  {
   "cell_type": "markdown",
   "id": "40b8a6da",
   "metadata": {},
   "source": [
    "5. Plot the qualitative behaviour of the step response of the system:\n",
    "\n",
    "$$\n",
    "G(s)=\\frac{20(3+0.1s)(s^2+10s+160)}{(2s+10)(0.1s+5)(s^2+2s+400)}\n",
    "$$"
   ]
  },
  {
   "cell_type": "markdown",
   "id": "959b6b8a",
   "metadata": {},
   "source": [
    "Let's re-write the transfer function slightly:\n",
    "\n",
    "\n",
    "$$\n",
    "G(s)=\\frac{20\\cdot0.1(30+s)(s^2+10s+160)}{2(s+\\frac{10}{2})0.1(s+\\frac{5}{0.1})(s^2+2s+400)}\n",
    "$$\n",
    "\n",
    "\n",
    "The poles are:\n",
    "\n",
    "$$\n",
    "s = -5, -50, -1.+19.97498436j, -1.-19.97498436j\n",
    "$$\n",
    "\n",
    "and the zeros are:\n",
    "\n",
    "$$\n",
    "s = -30, -5.+11.61895004j, -5.-11.61895004j\n",
    "$$\n",
    "\n",
    "The system is asymptotically stable, we can use the dominant poles approximation:\n",
    "\n",
    "$$\n",
    "G(s)=\\frac{20\\cdot0.1\\cdot30\\cdot160}{2\\cdot5\\cdot0.1\\cdot50(s^2+2s+400)} = \\frac{192}{(s^2+2s+400)}\n",
    "$$\n"
   ]
  },
  {
   "cell_type": "markdown",
   "id": "ab4abd5c",
   "metadata": {},
   "source": [
    "The response to a step input can be obtained as:\n",
    "\n",
    "$$\n",
    "Y(s) = G(s)\\frac{1}{s} = \\frac{192}{(s^2+2s+400)}\\frac{1}{s}\n",
    "$$\n",
    "\n",
    "And, using partial fraction decomposition:\n",
    "\n",
    "$$\n",
    "Y(s) = \\frac{K}{s} + \\frac{A}{s-p_1} + \\frac{A^*}{s-p_1^*}\n",
    "$$\n",
    "\n",
    "Where\n",
    "\n",
    "$$\n",
    "K = \\frac{192}{(s^2+2s+400)} \\bigg |_{s=0} = \\frac{192}{400} = 0.48\n",
    "$$\n",
    "\n"
   ]
  },
  {
   "cell_type": "markdown",
   "id": "451ebd05",
   "metadata": {},
   "source": [
    "And for the pole $p_1=−1.+19.97498436𝑗$"
   ]
  },
  {
   "cell_type": "markdown",
   "id": "a30ef3b1",
   "metadata": {},
   "source": [
    "We know that when we have complex conjugate poles - see notebook `03_Transfer_function`:\n",
    "\n",
    "$$\n",
    "f(t) = |A|e^{\\sigma t} \\big [   e^{j(\\Phi_A+\\omega t)} + e^{-j(\\Phi_A+\\omega t)}  \\big ] = 2|A|e^{\\sigma t}\\cos(\\Phi_A+\\omega t)\n",
    "$$\n",
    "\n",
    "\n",
    "where:\n",
    "\n",
    "$$\n",
    "A = (s-p_1)\\frac{192}{s(s-p_1)(s-p_1^*)} \\bigg |_{s=-1+20j} = \\frac{192}{s(s-p_1^*)} \\bigg |_{s=-1+20j} = \\frac{192}{(-1+20j)(\n",
    "40j)} = -0.24+0.012j\n",
    "$$"
   ]
  },
  {
   "cell_type": "code",
   "execution_count": null,
   "id": "ffe116bd",
   "metadata": {},
   "outputs": [
    {
     "data": {
      "text/plain": [
       "0.22799999999999998"
      ]
     },
     "execution_count": null,
     "metadata": {},
     "output_type": "execute_result"
    }
   ],
   "source": [
    "abs(-0.24+0.012)"
   ]
  },
  {
   "cell_type": "code",
   "execution_count": null,
   "id": "4ccbaf41",
   "metadata": {},
   "outputs": [
    {
     "data": {
      "text/plain": [
       "0.2397005613306827"
      ]
     },
     "execution_count": null,
     "metadata": {},
     "output_type": "execute_result"
    }
   ],
   "source": [
    "abs(192/(40j*(-1+20j)))"
   ]
  },
  {
   "cell_type": "code",
   "execution_count": null,
   "id": "2b1a0f56",
   "metadata": {},
   "outputs": [
    {
     "data": {
      "text/plain": [
       "19.974984355438178"
      ]
     },
     "execution_count": null,
     "metadata": {},
     "output_type": "execute_result"
    }
   ],
   "source": [
    "import numpy as np\n",
    "np.sqrt(399)"
   ]
  },
  {
   "cell_type": "markdown",
   "id": "34d42dd6",
   "metadata": {},
   "source": [
    "and the response is\n",
    "\n",
    "$$\n",
    "y(t) = K + Ae^{p_1}t + A^*e^{p_1^*}t = K + 2|A|e^{\\sigma t}cos(\\omega t + \\angle{A})\n",
    "$$\n",
    "\n",
    "where $p_1=\\sigma+\\omega t$ and $A=|A|e^{j\\angle{A}}$"
   ]
  },
  {
   "cell_type": "markdown",
   "id": "ce78ffa6",
   "metadata": {},
   "source": [
    "$$\n",
    "y(t) = 0.48 + 2*0.23*e^{-1t}cos(20t -\\frac{\\pi}{2})\n",
    "$$"
   ]
  },
  {
   "cell_type": "markdown",
   "id": "cf0d5db6",
   "metadata": {},
   "source": [
    "We can check that the inverse laplace of the system transfer function using Sympy:"
   ]
  },
  {
   "cell_type": "code",
   "execution_count": null,
   "id": "48d6811f",
   "metadata": {},
   "outputs": [],
   "source": [
    "def evaluate(f, times):\n",
    "    res = []\n",
    "    for time in times:        \n",
    "        res.append(f.evalf(subs={t:time}).n(chop=1e-5))\n",
    "    return res\n",
    "def L(f):\n",
    "    return sympy.laplace_transform(f, t, s, noconds=True)\n",
    "def invL(F):\n",
    "    return sympy.inverse_laplace_transform(F, s, t)"
   ]
  },
  {
   "cell_type": "code",
   "execution_count": null,
   "id": "cc1d0ab7",
   "metadata": {},
   "outputs": [
    {
     "data": {
      "text/latex": [
       "$\\displaystyle \\frac{64 \\sqrt{399} e^{- t} \\sin{\\left(\\sqrt{399} t \\right)} \\theta\\left(t\\right)}{133}$"
      ],
      "text/plain": [
       "64*sqrt(399)*exp(-t)*sin(sqrt(399)*t)*Heaviside(t)/133"
      ]
     },
     "execution_count": null,
     "metadata": {},
     "output_type": "execute_result"
    }
   ],
   "source": [
    "t, s = sympy.symbols('t, s')\n",
    "F = 192/(s**2+2*s+400)\n",
    "invL(F)"
   ]
  },
  {
   "cell_type": "markdown",
   "id": "43527afd",
   "metadata": {},
   "source": [
    "Where:"
   ]
  },
  {
   "cell_type": "code",
   "execution_count": null,
   "id": "7e54f616",
   "metadata": {},
   "outputs": [
    {
     "data": {
      "text/plain": [
       "19.974984355438178"
      ]
     },
     "execution_count": null,
     "metadata": {},
     "output_type": "execute_result"
    }
   ],
   "source": [
    "import numpy as np\n",
    "import cmath\n",
    "np.sqrt(399)"
   ]
  },
  {
   "cell_type": "markdown",
   "id": "9e121fa7",
   "metadata": {},
   "source": [
    "And now we can plot it to verify the step response:"
   ]
  },
  {
   "cell_type": "code",
   "execution_count": null,
   "id": "0fa5451e",
   "metadata": {},
   "outputs": [
    {
     "data": {
      "image/png": "[encoded data removed]",
      "text/plain": [
       "<Figure size 432x288 with 1 Axes>"
      ]
     },
     "metadata": {
      "needs_background": "light"
     },
     "output_type": "display_data"
    }
   ],
   "source": [
    "time = np.linspace(0, 7, 1000)\n",
    "y = 0.48 + 2*0.23*np.exp(-time)\n",
    "plt.plot(time, y)\n",
    "plt.xlabel('time');"
   ]
  },
  {
   "cell_type": "markdown",
   "id": "94c1760b",
   "metadata": {},
   "source": [
    "Finally, let's compare the result we got with what Sympy calculates"
   ]
  },
  {
   "cell_type": "code",
   "execution_count": null,
   "id": "34b7a993",
   "metadata": {},
   "outputs": [
    {
     "data": {
      "text/plain": [
       "Text(0.5, 1.0, 'y(end)=0.4804111769189878')"
      ]
     },
     "execution_count": null,
     "metadata": {},
     "output_type": "execute_result"
    },
    {
     "data": {
      "image/png": "[encoded data removed]",
      "text/plain": [
       "<Figure size 576x360 with 1 Axes>"
      ]
     },
     "metadata": {
      "needs_background": "light"
     },
     "output_type": "display_data"
    }
   ],
   "source": [
    "fig, ax = plt.subplots(1,1,figsize=(8,5))\n",
    "\n",
    "time = np.linspace(0,7,1000)\n",
    "\n",
    "ax.plot(time, evaluate(invL(F*1/s), time), linewidth=3)\n",
    "ax.plot(time, y, 'g')\n",
    "\n",
    "ax.set_title(f'y(end)={y[-1]}');"
   ]
  },
  {
   "cell_type": "markdown",
   "id": "33056a2a",
   "metadata": {},
   "source": [
    "Let's look at the response more closely:"
   ]
  },
  {
   "cell_type": "code",
   "execution_count": null,
   "id": "8d7885a4",
   "metadata": {},
   "outputs": [
    {
     "data": {
      "text/plain": [
       "[<matplotlib.lines.Line2D at 0x7fd5b31b6970>]"
      ]
     },
     "execution_count": null,
     "metadata": {},
     "output_type": "execute_result"
    },
    {
     "data": {
      "image/png": "[encoded data removed]",
      "text/plain": [
       "<Figure size 432x288 with 1 Axes>"
      ]
     },
     "metadata": {
      "needs_background": "light"
     },
     "output_type": "display_data"
    }
   ],
   "source": [
    "plt.plot(time[:100], y[:100])"
   ]
  },
  {
   "cell_type": "markdown",
   "id": "08508c74",
   "metadata": {},
   "source": [
    "We can also use the Python Control Library to verify our dominant pole approximation"
   ]
  },
  {
   "cell_type": "code",
   "execution_count": null,
   "id": "f87fbba7",
   "metadata": {},
   "outputs": [],
   "source": [
    "import control\n",
    "import matplotlib.pyplot as plt"
   ]
  },
  {
   "cell_type": "code",
   "execution_count": null,
   "id": "2bf72128",
   "metadata": {},
   "outputs": [],
   "source": [
    "s = control.TransferFunction.s\n",
    "G = (20*(3+0.1*s)*(s**2+10*s+160))/((2*s+10)*(0.1*s+5)*(s**2 + 2*s + 400))\n",
    "G_approx = 192/(s**2 + 2*s + 400)"
   ]
  },
  {
   "cell_type": "code",
   "execution_count": null,
   "id": "0ca293b1",
   "metadata": {},
   "outputs": [
    {
     "data": {
      "image/png": "[encoded data removed]",
      "text/plain": [
       "<Figure size 432x288 with 1 Axes>"
      ]
     },
     "metadata": {
      "needs_background": "light"
     },
     "output_type": "display_data"
    }
   ],
   "source": [
    "T, yout = control.step_response(G, T=np.linspace(0, 7, 1000));\n",
    "Tap, youtap = control.step_response(G_approx, T=np.linspace(0, 7, 1000));\n",
    "\n",
    "plt.plot(T, yout, 'b', label='original')\n",
    "plt.plot(Tap, youtap, 'r', label='approx d.p.')\n",
    "plt.legend()\n",
    "plt.grid()"
   ]
  },
  {
   "cell_type": "markdown",
   "id": "dc7fe228",
   "metadata": {},
   "source": [
    "6. For the system $G(s)$ defined above, calculate:\n",
    "\n",
    "- Its steady state value $y_\\infty$ to a step input (when $t \\rightarrow \\infty$)\n",
    "- Its settling time $t_s$\n",
    "- If the system oscillates, calculate the period $T_\\omega$ of the oscillation"
   ]
  },
  {
   "cell_type": "markdown",
   "id": "c4d0c767",
   "metadata": {},
   "source": [
    "- $y(t\\rightarrow\\infty) = 0.48$\n",
    "- $t_s \\approx -\\frac{1}{\\xi\\omega_n}ln(0.05) \\approx 3$\n",
    "\n",
    "given that:\n",
    " - $\\omega_n=\\sqrt{399}\\approx20$\n",
    " - $2\\xi\\omega_n=2 \\rightarrow 20 \\xi =1 \\rightarrow \\xi = 0.05$\n",
    " \n",
    "And finally:\n",
    "- $T_{P} = \\frac{2\\pi}{w_n\\sqrt{1-\\xi^2}} = 0.314s$"
   ]
  },
  {
   "cell_type": "code",
   "execution_count": null,
   "id": "a8a9152b",
   "metadata": {},
   "outputs": [
    {
     "name": "stdout",
     "output_type": "stream",
     "text": [
      "t_s = 2.995732273553991\n",
      "T_ = 0.3143932374740646\n"
     ]
    }
   ],
   "source": [
    "xi = 0.05\n",
    "wn = 20\n",
    "t_s = -1/(xi*wn)*np.log(0.05)\n",
    "print('t_s = {}'.format(t_s))\n",
    "\n",
    "Tp = 2*3.14/(wn*np.sqrt(1-xi**2))\n",
    "\n",
    "print('T_p = {}'.format(Tp))"
   ]
  },
  {
   "cell_type": "markdown",
   "id": "9b28af82",
   "metadata": {},
   "source": [
    "## Routh Criterion\n",
    "\n",
    "7. Determine the values of $K$ for which the following feedback system is asymptotically stable:\n",
    "\n",
    "<tr>\n",
    "<td> <img src=\"img/homework/block-diagram-routh.png\" alt=\"block-diagram-routh.png\" style=\"width: 550px;\"/> </td>\n",
    "</tr>\n"
   ]
  },
  {
   "cell_type": "markdown",
   "id": "7415065e",
   "metadata": {},
   "source": [
    "The characteristic equation of the feedback system is:\n",
    "\n",
    "$$\n",
    "1+K\\frac{s^2+2s+64}{s^2(s+0.5)} = 0 \\rightarrow s^2(s+0.5)+K(s^2+2s+64) = 0 \\rightarrow s^3 + (0.5+K)s^2 + 2Ks+64K=0\n",
    "$$\n",
    "\n",
    "The Routh table is:\n",
    "\n",
    "| | | |\n",
    "|-|-|-|\n",
    "|$3$| $1$ | $2K$ |\n",
    "|$2$| $0.5+K$ | $64K$ |\n",
    "|$1$| $(0.5+K)2K-64K$ | $0$ |\n",
    "|$0$| $64K$ | |\n",
    "\n",
    "from which it is possible to find the following constraints on $K$:\n",
    "\n",
    "$$\n",
    "0.5 + K > 0, \\hspace{0.5cm} 2K^2 +1K-64K > 0, \\hspace{0.5cm}K>0\n",
    "$$"
   ]
  },
  {
   "cell_type": "markdown",
   "id": "f2893c93",
   "metadata": {},
   "source": [
    "$$\n",
    "K>0.5, \\hspace{0.5cm} K>31.5, \\hspace{0.5cm} K>0\n",
    "$$\n",
    "\n",
    "And the system is asymptotically stable for $K>31.5$"
   ]
  },
  {
   "cell_type": "markdown",
   "id": "b06d96a0",
   "metadata": {},
   "source": [
    "## Bode Plots\n",
    "\n",
    "8. Plot the Bode amplitude and phase plots for the system discussed in question 7."
   ]
  },
  {
   "cell_type": "markdown",
   "id": "02c2bbbe",
   "metadata": {},
   "source": [
    "$$\n",
    "G_d(s) = \\frac{s^2+2s+64}{s^2(s+0.5)}= \\frac{64(\\frac{s^2}{64}+\\frac{2s}{64}+1)}{0.5s^2(\\frac{s}{0.5}+1)}\n",
    "$$"
   ]
  },
  {
   "cell_type": "markdown",
   "id": "f1d8510f",
   "metadata": {},
   "source": [
    "$K_{dB}=20\\log(64/0.5) \\approx 42 dB$"
   ]
  },
  {
   "cell_type": "markdown",
   "id": "90d7557c",
   "metadata": {},
   "source": [
    "<tr>\n",
    "<td> <img src=\"img/homework/bode-1.png\" alt=\"bode-1.png\" style=\"width: 550px;\"/> </td>\n",
    "</tr>"
   ]
  },
  {
   "cell_type": "markdown",
   "id": "05fa92f0",
   "metadata": {},
   "source": [
    "## DC Motor Transfer Functions\n",
    "\n",
    "The figures below represents a DC motor attached to an inertial load.\n",
    "\n",
    "<table style='margin: 0 auto' rules=none>\n",
    "    <tr>\n",
    "    <td> <img src=\"img/homework/dc-motor.png\" alt=\"dc-motor-wiring\" style=\"width: 300px;\"/> </td>\n",
    "    <td> <img src=\"img/homework/dc-motor-sketch.png\" alt=\"dc-motor-sketch\" style=\"width: 300px;\"/> </td>\n",
    "    </tr>\n",
    "</table>\n",
    "\n",
    "<table style='margin: 0 auto' rules=none>\n",
    "    <tr>\n",
    "    <td> <img src=\"img/homework/dc-motor-pancake.png\" alt=\"dc-motor-pancake\" style=\"width: 600px;\"/> </td>    \n",
    "    </tr>\n",
    "</table>\n",
    "\n",
    "The input voltage can be applied to either the field or the armature terminals.\n",
    "The voltages applied to the field and armature sides of the motor are represented by $V_f$ and $V_a$.\n",
    "\n",
    "The resistances and inductances of the field and armature sides of the motor are represented by $R_f$ , $L_f$, $R_a$, and $L_a$.\n",
    "The torque generated by the motor can be assumed to be related linarly to $i_f$ and $i_a$, the currents in the field and armature sides of the motor, as follows:\n",
    "\n",
    "$$\n",
    "T_m = K i_f i_a  \\;\\;\\;\\;(1)\n",
    "$$\n",
    "\n",
    "From the equation above, clearly to retain the linearity, one current must be kept constant, while the other becomes the input current.\n",
    "\n",
    "This makes it possible to have field-current or armature-current controlled motors. \n",
    "We will focus on the field-current motor for our analysis.\n",
    "\n",
    "This means that in a field-current controlled motor, the armature current is kept constant, while the field current $i_a$ is controlled through the field voltage $V_f$.\n",
    "\n",
    "$$\n",
    "T_m = K i_f i_a = K_m i_f  \\;\\;\\;\\;(2)\n",
    "$$\n",
    "\n",
    "where $K_m$ is defined as the motor constant. The motor torque increases linearly with the field current.\n",
    "\n",
    "**1. Write the Transfer Function from the input current to the resulting torque of the previous equation**"
   ]
  },
  {
   "cell_type": "markdown",
   "id": "32c7517b",
   "metadata": {},
   "source": [
    "$$\n",
    " \\frac{T_m(s)}{I_f(s)} = K_m\n",
    "$$"
   ]
  },
  {
   "cell_type": "markdown",
   "id": "f6851beb",
   "metadata": {},
   "source": [
    "For the field side of the motor the voltage/current relationship is\n",
    "$$\n",
    "V_f =V_R +V_L\n",
    " = R_f i_f +L_f (di_f dt)   \\;\\;\\;\\;(3)\n",
    "$$\n",
    "\n",
    "\n"
   ]
  },
  {
   "cell_type": "markdown",
   "id": "d4d837a9",
   "metadata": {},
   "source": [
    " **2. Write the Transfer Function from the input voltage to the resulting current**\n",
    " \n",
    " Vf = RfI+LsI\n",
    " \n",
    " I = Vf/Lf/(Rf/Lf+s)\n",
    " \n",
    "$$\n",
    "\\frac{I_f(s)}{V_f(s)} = \\frac{\\frac{1}{L_f}}{s+\\frac{R_f}{L_f}}  \\;\\;\\;\\;(4)\n",
    "$$"
   ]
  },
  {
   "cell_type": "markdown",
   "id": "1570cfb4",
   "metadata": {},
   "source": [
    "**3. Write the Transfer Function from the input voltage to the resulting motor torque**\n",
    "\n",
    " \n",
    "$$\n",
    "\\frac{T_m(s)}{V_f(s)} = \\frac{\\frac{K_m}{L_f}}{s+\\frac{R_f}{L_f}}   \\;\\;\\;\\;(5)\n",
    "$$\n",
    "\n"
   ]
  },
  {
   "cell_type": "markdown",
   "id": "8c7ba32d",
   "metadata": {},
   "source": [
    "**4. Discuss how the motor torque behaves with respect to different input signals (e.g., step input in field voltage, etc.)**"
   ]
  },
  {
   "cell_type": "markdown",
   "id": "8cf8aeb3",
   "metadata": {},
   "source": [
    "This is a first-order system (type 0), and a step input in field voltage $V_f$ results in an exponential rise in the motor torque."
   ]
  },
  {
   "cell_type": "markdown",
   "id": "4f55d17d",
   "metadata": {},
   "source": [
    "------------------"
   ]
  },
  {
   "cell_type": "markdown",
   "id": "17091a80",
   "metadata": {},
   "source": [
    "We can now add load to the motor and verify how its behaviour changes.\n",
    "\n",
    "The motor torque $T_m(s)$ is equal to the torque delivered to the load, and this relation can be expressed as:\n",
    "\n",
    "$$\n",
    "T_m(s) = T_L(s) + T_d(s) \\;\\;\\;\\;(6)\n",
    "$$\n",
    "\n",
    "where $T_L(s)$, and $T_d(s)$ is the disturbance torque (e.g., external forces acting on the load).\n",
    "\n",
    "\n",
    "We can calculate the rotational motion of the inertial load summing moments (see Figures above):\n",
    "\n",
    "$$\n",
    "\\sum{M} = T_L - f\\omega = J \\dot{\\omega} \\;\\;\\;\\;(7)\n",
    "$$\n",
    "\n",
    "where $f$ is due to friction, and $J$ is the load inertia.\n"
   ]
  },
  {
   "cell_type": "markdown",
   "id": "e57f3089",
   "metadata": {},
   "source": [
    "**5. Write the Laplace transform of the load torque $T_L(s)$ using using equation (7) above**"
   ]
  },
  {
   "cell_type": "markdown",
   "id": "8dce3bd0",
   "metadata": {},
   "source": [
    "$$\n",
    "T_L(s) = Js\\Omega(s)+f\\Omega(s)\n",
    "$$"
   ]
  },
  {
   "cell_type": "markdown",
   "id": "996aee46",
   "metadata": {},
   "source": [
    "**6. Given that the relationship between position and angular velocity $\\omega$, refine the equation you have just calculated to explicit the rotor position $\\theta$ (_hint:_ $\\dot\\theta = \\omega$)**\n",
    "\n"
   ]
  },
  {
   "cell_type": "markdown",
   "id": "1f82b4ae",
   "metadata": {},
   "source": [
    "$$\n",
    "T_L(s) = Js^2\\theta(s) + fs\\theta(s)\n",
    "$$\n",
    "\n",
    "where $\\Omega(s) = \\mathcal{L}(\\omega(t))$"
   ]
  },
  {
   "cell_type": "markdown",
   "id": "88796962",
   "metadata": {},
   "source": [
    "**7. Put together equations (2,4,6) and calculate the transfer function of the motor-load combination**\n",
    "\n",
    "$$\n",
    "\\frac{\\theta(s)}{V_f(s)} = \\frac{K_m}{s(Js+f)(L_fs+R_f)} = \\frac{\\frac{K_m}{JL_f}}{s(s+\\frac{f}{J})(s+\\frac{R_f}{L_f})}. \\;\\;\\;\\;(8)\n",
    "$$"
   ]
  },
  {
   "cell_type": "markdown",
   "id": "33f61b2b",
   "metadata": {},
   "source": [
    "**8. Discuss the resuting system (order, dominant pole approximations, what happens when parameters change, select specific values for the parameters and draw its step response.)**\n",
    "\n",
    "$$\n",
    "\\frac{\\theta(s)}{V_f(s)} = \\frac{\\frac{K_m}{JL_f}}{s(s+\\frac{f}{J})(s+\\frac{R_f}{L_f})} = \\frac{\\frac{K_m}{fR_f}}{s(\\tau_f s+1)(\\tau_L s+1)}\n",
    "$$\n",
    "\n",
    "where $\\tau_f=\\frac{L_f}{R_f}$ and $\\tau_L=\\frac{J}{f}$.\n",
    "\n",
    "When $\\tau_L > \\tau_f$, the field time constant $\\tau_f$ can be neglected."
   ]
  },
  {
   "cell_type": "markdown",
   "id": "5955c70c",
   "metadata": {},
   "source": [
    "Let's choose the following values:"
   ]
  },
  {
   "cell_type": "markdown",
   "id": "1610bbaa",
   "metadata": {},
   "source": [
    "- (J)     moment of inertia of the rotor     0.01 kg.m^2\n",
    "- (f)     motor viscous friction constant    0.1 N.m.s\n",
    "- (Ke)    electromotive force constant       0.01 V/rad/sec\n",
    "- (Kt)    motor torque constant              0.01 N.m/Amp\n",
    "- (R)     electric resistance                1 Ohm\n",
    "- (L)     electric inductance                0.5 H\n",
    "\n",
    "_Note that in SI units, $K_e = K_t = K$_"
   ]
  },
  {
   "cell_type": "markdown",
   "id": "50d2604a",
   "metadata": {},
   "source": [
    "$$\n",
    "\\frac{\\theta(s)}{V_f(s)} = \\frac{\\frac{0.01}{0.1\\cdot1}}{s(0.5/1s+1)(0.01/0.1s+1)} = \\frac{0.1}{s(0.5s+1)(0.1s+1)}\n",
    "$$"
   ]
  },
  {
   "cell_type": "code",
   "execution_count": null,
   "id": "0a082d26",
   "metadata": {},
   "outputs": [],
   "source": [
    "s = control.TransferFunction.s\n",
    "G_motor = 0.1/(s*(0.5*s+1)*(0.1*s+1))"
   ]
  },
  {
   "cell_type": "code",
   "execution_count": null,
   "id": "e0bd1068",
   "metadata": {},
   "outputs": [
    {
     "data": {
      "image/png": "[encoded data removed]",
      "text/plain": [
       "<Figure size 432x288 with 1 Axes>"
      ]
     },
     "metadata": {
      "needs_background": "light"
     },
     "output_type": "display_data"
    }
   ],
   "source": [
    "T, yout = control.step_response(G_motor, T=np.linspace(0, 7, 1000));\n",
    "\n",
    "plt.plot(T, yout, 'b', label='dc-motor-step-response')\n",
    "plt.legend()\n",
    "plt.xlabel('time')\n",
    "plt.grid()"
   ]
  },
  {
   "cell_type": "markdown",
   "id": "4edac7ca",
   "metadata": {},
   "source": [
    "**9. Draw a block diagram of the field controlled DC motor from the field voltage to the position output using all the relevant equations calculated so far. Make sure you include the disturbance $T_d(s)$ as per equation (6).**"
   ]
  },
  {
   "cell_type": "markdown",
   "id": "9efa946f",
   "metadata": {},
   "source": [
    "\n",
    "<table style='margin: 0 auto' rules=none>\n",
    "    <tr>\n",
    "    <td> <img src=\"img/homework/dc-motor-field-current-bd.png\" alt=\"dc-motor-field-current-bd\" style=\"width: 600px;\"/> </td>    \n",
    "    </tr>\n",
    "</table>\n"
   ]
  },
  {
   "cell_type": "code",
   "execution_count": null,
   "id": "73604017",
   "metadata": {},
   "outputs": [],
   "source": []
  }
 ],
 "metadata": {
  "kernelspec": {
   "display_name": "Python 3 (ipykernel)",
   "language": "python",
   "name": "python3"
  }
 },
 "nbformat": 4,
 "nbformat_minor": 5
}
