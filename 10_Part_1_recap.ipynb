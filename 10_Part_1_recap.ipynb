{
 "cells": [
  {
   "cell_type": "code",
   "execution_count": null,
   "id": "19dd6e9e",
   "metadata": {},
   "outputs": [],
   "source": [
    "# default_exp part_1_recap"
   ]
  },
  {
   "cell_type": "markdown",
   "id": "42758eba",
   "metadata": {},
   "source": [
    "# Part 1 Recap"
   ]
  },
  {
   "cell_type": "markdown",
   "id": "8a9d0683",
   "metadata": {},
   "source": [
    "Please fill up the questionnaire at: https://esami.unipi.it"
   ]
  },
  {
   "cell_type": "markdown",
   "id": "e4321738",
   "metadata": {},
   "source": [
    "--------------------"
   ]
  },
  {
   "cell_type": "markdown",
   "id": "dec6648b",
   "metadata": {},
   "source": [
    "## Jupyter and Python"
   ]
  },
  {
   "cell_type": "markdown",
   "id": "8e36e906",
   "metadata": {},
   "source": [
    "### Installing Anaconda and dependencies to run the notebooks"
   ]
  },
  {
   "cell_type": "markdown",
   "id": "c0505559",
   "metadata": {},
   "source": [
    "- Install Anaconda: [Anaconda Download Page](https://www.anaconda.com/products/individual)\n",
    "\n",
    "- Refer to the Anaconda documentation for more information [here](https://docs.anaconda.com/anaconda/user-guide/getting-started/)\n",
    "\n",
    "- Open a terminal window: \n",
    "   - Windows: From the Start menu, search for and open “Anaconda Prompt”\n",
    "   - MacOS/Linux: Click the terminal icon.\n",
    "   \n",
    "- Once in a terminal, \n",
    "\n",
    "  - create an environment:\n",
    "    `conda create --name env-automatic-control python=3.9`\n",
    "  - activate it:\n",
    "    `conda activate env-automatic-control`\n",
    "    \n",
    "-  Install everything that is needed \n",
    "  - Jupyter notebook:\n",
    "  \n",
    "    `conda install -c conda-forge notebook`\n",
    "\n",
    "  - Standard engineering libraries:\n",
    "  \n",
    "    `python -m pip install matplotlib numpy pandas`\n",
    "    \n",
    "    `conda install numpy scipy matplotlib`    # if not yet installed\n",
    "    \n",
    "    `conda install -c conda-forge control`\n",
    "    \n",
    "    `conda install -c anaconda sympy`\n",
    "\n",
    "You are set up!"
   ]
  },
  {
   "cell_type": "markdown",
   "id": "aab921bc",
   "metadata": {},
   "source": [
    "### Going back to work (opening your Jupyter notebooks)\n",
    "\n",
    "- Open a terminal window: \n",
    "   - Windows: From the Start menu, search for and open “Anaconda Prompt”\n",
    "   - MacOS/Linux: Click the terminal icon.\n",
    "   \n",
    "- Move to yur project folder (e.g. `cd /Users/<USERNAME>/MyProject/`)   \n",
    "  (if you need to find out how to find your folder path in Windows read below: \"Note: To find out where is your folder in Windows\")\n",
    "\n",
    "- Activate your conda environment:\n",
    "  `conda activate env-automatic-control`\n",
    "  \n",
    "- Run:\n",
    "  `jupyter notebook`\n",
    "  \n",
    "A new tab in your browser should open up automatically showing the jupyter home folder (your current folder).\n",
    "If it does not open, open your favourite brower and type: `localhost:8888` in the browser address bar.\n",
    "Sometime jupyter requires a token - this is automatically created when jupyter is started. Look back to your terminal window right after the command `jupyter notebook` there should be a line similar to:\n",
    "\n",
    "    To access the notebook, open this file in a browser:\n",
    "        file:///Users/<YOUR_USERNAME>/Library/Jupyter/runtime/nbserver-73848-open.html\n",
    "    Or copy and paste one of these URLs:\n",
    "        http://localhost:8888/?token=66781622f3ed474ccf1f0f61e5708b035acfcf4e41cc7c8a\n",
    "     or http://127.0.0.1:8888/?token=66781622f3ed474ccf1f0f61e5708b035acfcf4e41cc7c8a\n",
    "\n",
    "Copy and paste one of the last two addresses in your browser to start your jupyter session.\n",
    "\n",
    "You are ready to start coding!\n",
    "\n",
    "\n",
    "\n",
    "----\n",
    "**Note: To find out where is your folder in Windows:**\n",
    "  - Open Windows Explorer and go inside the folder you need\n",
    "  - Right click on the address path and right-click\n",
    "  - Select \"copy address as text\" (see picture below)\n",
    "  - Go back to your Anaconda prompt and paste it (remember to type `cd ` first!)\n",
    "  \n",
    "<table style='margin: 0 auto' rules=none>\n",
    "    <tr>\n",
    "    <td> <img src=\"img/find-windows-path.png\" alt=\"find-windows-path\" style=\"width: 600px;\"/> </td>        \n",
    "    </tr>\n",
    "</table>\n",
    "    \n",
    "----\n",
    "\n",
    "#### References\n",
    " - [Installing Jupyter Software](https://jupyter.org/install)\n",
    " - [Python Control Library](https://python-control.readthedocs.io/en/0.9.0/intro.html#installation)"
   ]
  },
  {
   "cell_type": "markdown",
   "id": "1a3c6d5c",
   "metadata": {},
   "source": [
    "------------------------"
   ]
  },
  {
   "cell_type": "markdown",
   "id": "ea09c06e",
   "metadata": {},
   "source": [
    "## The Control Problem"
   ]
  },
  {
   "cell_type": "markdown",
   "id": "b15951c6",
   "metadata": {},
   "source": [
    "- Systems and control systems\n",
    "- Three problems:\n",
    "   - system identification problem\n",
    "   - simulation problem\n",
    "   - control Problem\n",
    "   \n",
    "- Why do we need feedback control"
   ]
  },
  {
   "cell_type": "markdown",
   "id": "037a4336",
   "metadata": {},
   "source": [
    "## LTI systems\n",
    "\n",
    "- Homogeneity\n",
    "- Superposition (Additivity)\n",
    "- Time Invariance\n",
    "\n",
    "- Impulse Response\n",
    "    > LTI systems can be characterised by their response to an impulse function (the output of the system when presented with a brief input signal)"
   ]
  },
  {
   "cell_type": "markdown",
   "id": "ecc1247b",
   "metadata": {},
   "source": [
    "## Transfer Functions\n",
    "- Laplace domain representation of a system\n",
    "\n",
    "> Definition: Transfer function is the Laplace transform of the impulse response of a linear, time-invariant system with a single input and single output when you set the initial conditions to zero.\n",
    "\n",
    "- State space vs Transfer functions\n",
    "- Laplace Transform\n"
   ]
  },
  {
   "cell_type": "markdown",
   "id": "3ad826c8",
   "metadata": {},
   "source": [
    "The Laplace transform is important because it is a tool for solving differential equations: _it transforms linear differential equations into algebraic equations, and convolution into multiplication!_\n",
    "\n",
    "- Derivatives and integrals become algebric operations\n",
    "\n",
    "From a system perspective, the Transfer function expresses the relation between the Laplace Transform of the input and that of the output:\n",
    "\n",
    "$$ Y(s)=\\mathbf{c}^T(s\\mathbf{I}-\\mathbf{A})^{-1} \\mathbf{b} U(s) $$"
   ]
  },
  {
   "cell_type": "markdown",
   "id": "5c997aa7",
   "metadata": {},
   "source": [
    "- Properties of the Laplace Transform (relationships between time and frequency)\n",
    "  - $\\frac{df}{dt}(t) \\rightarrow sF(s)$\n",
    "  - $af(t)$ + $bg(t) \\rightarrow aF(s)+bG(s)$\n",
    "  \n",
    "- Laplace transforms of known functions:\n",
    "  - $\\delta(t) \\rightarrow 1$\n",
    "  - $1(t) \\rightarrow \\frac{1}{s}$\n",
    "  - $e^{-at} \\rightarrow \\frac{1}{s+a}$  \n",
    "  - ...\n",
    "  "
   ]
  },
  {
   "cell_type": "markdown",
   "id": "648b23f9",
   "metadata": {},
   "source": [
    "## Stability and other properties"
   ]
  },
  {
   "cell_type": "markdown",
   "id": "2cad385d",
   "metadata": {},
   "source": [
    "- System $G(s)$ is asymptotically stable if all its poles have $Re<0$\n",
    "- System $G(s)$ is stable if all its poles have G(s) $Re \\le 0$ and if those with $Re=0$ have multiplicity one.\n",
    "- System $G(s)$ is unstable if it has at least one pole with $Re>0$ or with $Re=0$ and multiplicity $\\ge 2$.\n"
   ]
  },
  {
   "cell_type": "markdown",
   "id": "98a8904d",
   "metadata": {},
   "source": [
    "- BIBO stability: \n",
    "  - A system is BIBO stable (Bounded Input, Bounded Output) if for each limited input, there is a limited output\n",
    "  - For linear systems: BIBO stability if and only if poles of the transfer functions have $Re<0$\n",
    " \n",
    " \n",
    "- Stability of a system in a state space representation\n",
    "- Controllability (Reachability)\n",
    "- Observability"
   ]
  },
  {
   "cell_type": "markdown",
   "id": "8a8597da",
   "metadata": {},
   "source": [
    "## Block diagrams\n",
    "- Standard representation of interconnected systems and subsystems using Transfer Functions\n",
    "- Block diagram algebra (serie, parallel, feedback) and equivalent block diagrams\n",
    "- Zero-poles cancellations\n",
    "- Impact on stability and other properties"
   ]
  },
  {
   "cell_type": "markdown",
   "id": "cfd6cd87",
   "metadata": {},
   "source": [
    "## System Response\n",
    "- Dominant pole approximation\n",
    "- First-order and second-order systems\n",
    "  - First-order systems: step response and performance\n",
    "  - time constant ($\\tau$) - Characterises completely the response of a first order system\n",
    "  - settling time: $t_s = -\\tau ln(0.05)$ (time to get to 95% of steady state)\n",
    "  \n",
    "  - Second order systems: step response and performance\n",
    "  - More parameters to define performance: max overshoot, time of max overshoot, settling time, oscillation period\n",
    "    "
   ]
  },
  {
   "cell_type": "markdown",
   "id": "46e50f2b",
   "metadata": {},
   "source": [
    "## Frequency response\n",
    "- Assuming that the system is asymptotically stable,\n",
    "- If we input a sinusoid $Asin(\\omega t)$\n",
    "- The output of the system converges $y(t)=A|G(j\\omega)|sin(\\omega t + \\angle G(j\\omega) ) $\n",
    "- $G(j\\omega)$ is the frequency response\n",
    "- If we know magnitude and phase of $G(j\\omega)$ (for varying $\\omega$) then we know how the system behaves for all sinusoidal inputs with different driving frequencies.\n",
    "\n",
    "\n",
    "## Bode plots\n",
    "- Frequency Response and Bode Plots\n",
    "  - analysing the gain and the phase shift across the full frequency spectrum\n",
    "  - gain diagram and phase diagram\n",
    "  \n",
    "- Leverages the properties of transfer functions and of logarithms:\n",
    "    - The transfer function of linear systems are polynomial fractions in $s$\n",
    "    - It is always possible to factor polynomials in terms of their roots (zeros and poles)\n",
    "    - Each polynomial is the product of first-order or second-order (potentially with multiplicity $>$ 1)\n",
    "    - To build the frequency response of the system is useful to have simple rules to represent each term\n",
    "    - The logarithm of a product is equal to a sum of logarithms\n",
    "  - remember to convert gain to dB: $|G(j\\omega)|_{dB}=20log_{10}|G(j\\omega)|$\n",
    "\n",
    "- Sketching Bode Plots\n",
    "  - Given a transfer function $G(s)$ we can obtain the (steady state) frequency response setting $s=j\\omega \\rightarrow G(j\\omega)$\n",
    "  - $G(j\\omega) = \\text{real} + \\text{imag}j $\n",
    "  - Gain: $\\sqrt{\\text{real}^2 + \\text{img}^2} = |G(j\\omega)|$\n",
    "  - Phase: $atan2(\\text{img}, \\text{real}) = arg(G(j\\omega)) = \\angle G(j\\omega)$\n",
    "  - Our building blocks:\n",
    "     - constant gain\n",
    "     - integrator\n",
    "     - simple pole\n",
    "     - complex poles\n",
    "     - specular behaviour for the zeros (properties of the logarithms)\n",
    "     - Transform the trasnfer function to the Bode form before drawing the Bode plots!\n",
    "     "
   ]
  },
  {
   "cell_type": "markdown",
   "id": "55a37271",
   "metadata": {},
   "source": [
    "## Final value theorem and steady state error\n",
    "- Meaning of final value\n",
    "- Theorem: for an asymptotically stable LTI system: $ \\lim\\limits_{t \\rightarrow \\infty} x(t) = \\lim\\limits_{s \\rightarrow 0} sX(s)$\n",
    "- System type: number of poles at the origin \n",
    "- Analysis of the final value for different system types and different inputs\n",
    "- For a feedback system: the final value of the error is a much better indicator of the performance of our controller"
   ]
  },
  {
   "cell_type": "markdown",
   "id": "b8e08e97",
   "metadata": {},
   "source": [
    "## Diving deeper into the feedback loop\n",
    "- Included load disturbances and measurement noise in the feedback loop\n",
    "- Sensitivity function (feedback and disturbances / low frequency specifications)\n",
    "- Complementary sensitivity function (feedback and measurements / high frequency specifications)\n",
    "- Design requirements on the loop gain function $|R(s)G(s)|$"
   ]
  },
  {
   "cell_type": "markdown",
   "id": "a520b63a",
   "metadata": {},
   "source": [
    "## Routh-Hurwitz Criterion\n",
    "- Necessary and sufficient condition to analyse the stability of the systems without solving for the roots explicitely\n",
    "- Usage can be extended to beyond stability\n",
    "   - Gain margins\n",
    "   - Deal with requirement on the speed of the response (time to half)"
   ]
  },
  {
   "cell_type": "markdown",
   "id": "e51225a2",
   "metadata": {},
   "source": [
    "## Coming up next\n",
    "- Polar plots and the Nyquist plot\n",
    "- Stability margins\n",
    "- Root locus\n",
    "- PID controllers\n",
    "- Lead-lag/lad-lead compensators"
   ]
  },
  {
   "cell_type": "code",
   "execution_count": null,
   "id": "45b1fb7f",
   "metadata": {},
   "outputs": [],
   "source": []
  }
 ],
 "metadata": {
  "kernelspec": {
   "display_name": "Python 3 (ipykernel)",
   "language": "python",
   "name": "python3"
  }
 },
 "nbformat": 4,
 "nbformat_minor": 5
}
