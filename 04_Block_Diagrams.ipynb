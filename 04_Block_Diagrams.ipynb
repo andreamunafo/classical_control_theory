{
 "cells": [
  {
   "cell_type": "code",
   "execution_count": null,
   "id": "73a5ce60",
   "metadata": {},
   "outputs": [],
   "source": [
    "# default_exp block_diagrams"
   ]
  },
  {
   "cell_type": "code",
   "execution_count": null,
   "id": "2514fad0",
   "metadata": {},
   "outputs": [],
   "source": [
    "#hide\n",
    "%load_ext autoreload\n",
    "%autoreload 2"
   ]
  },
  {
   "cell_type": "code",
   "execution_count": null,
   "id": "ea6e908b",
   "metadata": {},
   "outputs": [],
   "source": [
    "#export\n",
    "import numpy as np\n",
    "import matplotlib.pyplot as plt"
   ]
  },
  {
   "cell_type": "code",
   "execution_count": null,
   "id": "92a8c243",
   "metadata": {},
   "outputs": [],
   "source": [
    "#hide\n",
    "%matplotlib inline"
   ]
  },
  {
   "cell_type": "markdown",
   "id": "ebb13105",
   "metadata": {},
   "source": [
    "# Block diagrams"
   ]
  },
  {
   "cell_type": "markdown",
   "id": "8e0e75be",
   "metadata": {},
   "source": [
    "This notebook will talk about:\n",
    "- Basic components of block diagrams\n",
    "- How to compose block diagrams together\n",
    "- Block diagrams and system properties (e.g., Stability, etc)"
   ]
  },
  {
   "cell_type": "markdown",
   "id": "785b80fe",
   "metadata": {},
   "source": [
    "------------------"
   ]
  },
  {
   "cell_type": "markdown",
   "id": "135d4ce2",
   "metadata": {},
   "source": [
    "## Block Diagrams\n",
    "\n",
    "- One of the control system engineer’s favorite tools for organizing, communicating, simulating and solving problems\n",
    "- Standard representation of interconnected systems and subsystems using Transfer Functions\n",
    "- Makes it easier to identify inputs, outputs and dynamic systems\n",
    "- Block diagrams show us the interrelationship of systems and how signals flow between them.\n",
    "\n",
    "   - variables or signals: arrows ($\\rightarrow$)\n",
    "   - systems: blocks with a transfer function, and arrows going in (inputs) and out (outputs)\n",
    "   - summation node: circle with arrows going in (with the appropriate signs) and an arrow going out\n",
    "   - branching points: represents two or more variables are replicas of the variable before the branching point\n",
    "\n",
    "- Always useful during the analysis."
   ]
  },
  {
   "cell_type": "markdown",
   "id": "b41a6ce1",
   "metadata": {},
   "source": [
    "For example: \n",
    "\n",
    "<tr>\n",
    "<td> <img src=\"img/19.block-diagram-feedback.png\" alt=\"19.block-diagram-feedback\" style=\"width: 500px;\"/> </td>\n",
    "</tr>"
   ]
  },
  {
   "cell_type": "markdown",
   "id": "17508244",
   "metadata": {},
   "source": [
    "## Block Diagram Albegra"
   ]
  },
  {
   "cell_type": "markdown",
   "id": "5f34bef5",
   "metadata": {},
   "source": [
    "- Block diagrams can be quite complex, and when that happens it is useful to know how to calculate the transfer function between a specific input and a specific output.\n",
    "\n",
    "- For this, it is better to start with some easy cases: **Cascaded, Parallel and Feedback Loop.**\n",
    "\n",
    "- More complex cases are handled recursively applying these rules. Note that, given that we are restricting the analysis to linear systems, the impact of each input on a specific output is independent of other inputs that can be present (they can all be set to 0)."
   ]
  },
  {
   "cell_type": "markdown",
   "id": "1c7021c0",
   "metadata": {},
   "source": [
    "### Cascaded Blocks"
   ]
  },
  {
   "cell_type": "markdown",
   "id": "e1f494f2",
   "metadata": {},
   "source": [
    "<table style='margin: 0 auto' rules=none>\n",
    "<tr>\n",
    "<td> <img src=\"img/20.block-diagram-serie.png\" alt=\"20.block-diagram-serie\" style=\"width: 500px;\"/> </td>\n",
    "</tr>\n",
    "</table>"
   ]
  },
  {
   "cell_type": "markdown",
   "id": "97009cbb",
   "metadata": {},
   "source": [
    "This can be easily calculated using algebric manipulation:\n",
    "\n",
    "$$Y(s)=G_2(s)U(s)$$\n",
    "$$U(s)=G_1(s)E(s)$$\n",
    "\n",
    "which means:\n",
    "\n",
    "$$Y(s)=G_2(s)G_1(s)E(s) \\Rightarrow G(s) = G_1(s)G_2(s)$$\n",
    "\n"
   ]
  },
  {
   "cell_type": "markdown",
   "id": "005ee956",
   "metadata": {},
   "source": [
    "### Parallel"
   ]
  },
  {
   "cell_type": "markdown",
   "id": "6c9720cf",
   "metadata": {},
   "source": [
    "<table style='margin: 0 auto' rules=none>\n",
    "<tr>\n",
    "<td> <img src=\"img/21.block-diagram-parallel.png\" alt=\"21.block-diagram-parallel\" style=\"width: 300px;\"/> </td>\n",
    "</tr>\n",
    "</table>"
   ]
  },
  {
   "cell_type": "markdown",
   "id": "509f752e",
   "metadata": {},
   "source": [
    "This can be easily calculated using algebric manipulation:\n",
    "\n",
    "$$Y(s)=G_1(s)R(s) + G_2(s)R(s) + G_3(s)R(s) = (G_1(s) + G_2(s) + G_3(s))R(s)$$\n",
    "\n",
    "which means:\n",
    "\n",
    "$$ G(s) = G_1(s) + G_2(s) + G_3(s)$$\n",
    "\n"
   ]
  },
  {
   "cell_type": "markdown",
   "id": "804e693f",
   "metadata": {},
   "source": [
    "Note the presence of:\n",
    "- _take off points_: allow an unaltered signal to go along multiple paths.\n",
    "- _summing junctions_: sum or subtract signals"
   ]
  },
  {
   "cell_type": "markdown",
   "id": "797a4b3c",
   "metadata": {},
   "source": [
    "### Feedback Loop"
   ]
  },
  {
   "cell_type": "markdown",
   "id": "af771e0b",
   "metadata": {},
   "source": [
    "<table style='margin: 0 auto' rules=none>\n",
    "<tr>\n",
    "<td> <img src=\"img/22.block-diagram-feedback-simple.png\" alt=\"22.block-diagram-feedback-simple\" style=\"width: 300px;\"/> </td>\n",
    "</tr>\n",
    "</table>"
   ]
  },
  {
   "cell_type": "markdown",
   "id": "e89106b4",
   "metadata": {},
   "source": [
    "So, how do we do this one?"
   ]
  },
  {
   "cell_type": "markdown",
   "id": "5f5aaddf",
   "metadata": {},
   "source": [
    "$$Y(s)=G_1(s)*E(s)$$\n",
    "$$E(s)=R(s)-Y_m(s)$$\n",
    "$$Y_m(s)=G_2(s)Y(s)$$\n",
    "\n",
    "or \n",
    "\n",
    "$$Y(s)=G_1(s)*(R(s)-Y_m(s)) \\rightarrow Y(s)=G_1(s)*(R(s)-G_2(s)Y(s)) $$\n",
    "\n",
    "and finally:\n",
    "\n",
    "$$Y(s)+G_1(s)G_2(s)Y(s) = G_1(s)*R(s) $$\n",
    "\n",
    "$$ G(s) = \\frac{G_1(s)}{1 + G_1(s)G_2(s)} $$\n",
    "\n"
   ]
  },
  {
   "cell_type": "markdown",
   "id": "ea414bb8",
   "metadata": {},
   "source": [
    "## Zero-Pole Cancellations"
   ]
  },
  {
   "cell_type": "markdown",
   "id": "1b917ed5",
   "metadata": {},
   "source": [
    "- When we compose systems together we expect the order of the system being equal to the sum of the order of each individual system.\n",
    "\n",
    "- However, when we compose systems together and calculate the transfer function it might happen that the resulting function has less poles.\n",
    "   - In this case, we have cancellations that correspond to \"hidden\" parts of the system.\n",
    "   \n",
    "Let's consider an example:"
   ]
  },
  {
   "cell_type": "markdown",
   "id": "c0bf17ac",
   "metadata": {},
   "source": [
    "<table style='margin: 0 auto' rules=none>\n",
    "<tr>\n",
    "<td> <img src=\"img/23.example-2.png\" alt=\"23.example-1\" style=\"width: 500px;\"/> </td>\n",
    "</tr>\n",
    "</table>\n",
    "\n"
   ]
  },
  {
   "cell_type": "markdown",
   "id": "63b4ade0",
   "metadata": {},
   "source": [
    "where \n",
    "\n",
    "\\begin{equation}\n",
    "G_1(s)=\\frac{s+1}{s+2}\\;\\; \\text{and}\\;\\; G_2(s)=\\frac{1}{s}\n",
    "\\end{equation}\n",
    "\n"
   ]
  },
  {
   "cell_type": "markdown",
   "id": "434a6b9b",
   "metadata": {},
   "source": [
    "We reduce the feedback loop first:\n",
    "\n",
    "$$G_3(s)=\\frac{1/s}{1+1/s} = \\frac{1/s}{\\frac{s+1}{s}} = \\frac{1}{s+1}$$\n",
    "\n",
    "Then the serie:\n",
    "$$G(s) = \\frac{s+1}{s+2} \\frac{1}{s+1} = \\frac{1}{s+2} $$\n",
    "\n",
    "This connection between two systems determined an \"hidden\" part, which is not visible in the input/output relationship and the system behaves like a first-order one."
   ]
  },
  {
   "cell_type": "markdown",
   "id": "89c64d27",
   "metadata": {},
   "source": [
    "### Observability and Controllobality of Interconnected Systems"
   ]
  },
  {
   "cell_type": "markdown",
   "id": "6ca15ecc",
   "metadata": {},
   "source": [
    "- Controllability measures the ability of a particular actuator configuration to control all the states of the system; \n",
    "\n",
    "- Observability measures the ability of the particular sensor configuration to supply all the information necessary to estimate all the states of the system.\n",
    "\n"
   ]
  },
  {
   "cell_type": "markdown",
   "id": "9bb9829a",
   "metadata": {},
   "source": [
    "#### Cascaded Blocks"
   ]
  },
  {
   "cell_type": "markdown",
   "id": "962e84a5",
   "metadata": {},
   "source": [
    "<table style='margin: 0 auto' rules=none>\n",
    "<tr>\n",
    "<td> <img src=\"img/20.block-diagram-serie.png\" alt=\"20.block-diagram-serie\" style=\"width: 500px;\"/> </td>\n",
    "</tr>\n",
    "</table>"
   ]
  },
  {
   "cell_type": "markdown",
   "id": "af15a613",
   "metadata": {},
   "source": [
    "$$G(s) = G_1(s)G_2(s) = \\frac{N_1(s)}{D_1(s)}\\frac{N_2(s)}{D_2(s)}$$\n",
    "\n",
    "- If $N_1(s)$ and $D_2(s)$ have roots in common, then $G(s)$ is not controllable (zero-pole cancellation)\n",
    "\n",
    "- If $N_2(s)$ and $D_1(s)$ have roots in common, then $G(s)$ is not observable (pole-zero cancellation)"
   ]
  },
  {
   "cell_type": "markdown",
   "id": "5e998335",
   "metadata": {},
   "source": [
    "#### Parallel Blocks"
   ]
  },
  {
   "cell_type": "markdown",
   "id": "31201dd7",
   "metadata": {},
   "source": [
    "<table style='margin: 0 auto' rules=none>\n",
    "<tr>\n",
    "<td> <img src=\"img/24.block-diagram-parallel-two.png\" alt=\"24.block-diagram-parallel-two\" style=\"width: 500px;\"/> </td>\n",
    "</tr>\n",
    "</table>"
   ]
  },
  {
   "cell_type": "markdown",
   "id": "e339ea7d",
   "metadata": {},
   "source": [
    "$$G(s) = G_1(s) + G_2(s) = \\frac{N_1(s)}{D_1(s)} + \\frac{N_2(s)}{D_2(s)} = \\frac{N_1(s)D_2(s) + N_2(s)D_1(s)}{D_1(s)D_2(s)}$$\n",
    "\n",
    "- Cancellations can happen only when $D_1(s)$ and $D_2(s)$ have common roots (you can bring them out together in the numerator and then cancel them out with those in the denumerator). When this happens, we have a **non-observable and non-controllable** part of the system."
   ]
  },
  {
   "cell_type": "markdown",
   "id": "8c36437d",
   "metadata": {},
   "source": [
    "#### Feedback Loop"
   ]
  },
  {
   "cell_type": "markdown",
   "id": "6022f89c",
   "metadata": {},
   "source": [
    "<table style='margin: 0 auto' rules=none>\n",
    "<tr>\n",
    "<td> <img src=\"img/22.block-diagram-feedback-simple.png\" alt=\"22.block-diagram-feedback-simple\" style=\"width: 500px;\"/> </td>\n",
    "</tr>\n",
    "</table>"
   ]
  },
  {
   "cell_type": "markdown",
   "id": "c3d5f37b",
   "metadata": {},
   "source": [
    "$$G(s) = \\frac{G_1(s)}{1 + G_1(s)G_2(s)} =\\frac{\\frac{N_1(s)}{D_1(s)}}{1 + \\frac{N_1(s)}{D_1(s)}\\frac{N_2(s)}{D_2(s)}} = \\frac{N_1(s)D_2(s)}{D_1(s)D_2(s) + N_1(s)N_2(s)}$$\n",
    "\n",
    "- We have the equivalent of a serie interconnection: $G_1(s)G_2(s)$, same rules apply\n",
    "- Cancellations occur when $N_1(s)$ and $D_2(s)$ have common factors (you can bring them out together in the numerator and then cancel them out with those in the denumerator):\n",
    "   - When zero of $G_1(s)$ cancels a pole of $G_2(s)$ then we have a **non-observable and non-controllable** part of the system.\n",
    "   - When pole of $G_1(s)$ cancels a zero of $G_2(s)$ then we still have a **fully observable and fully controllable** system. This is because the denominator of $G(s)$ does not lose its degree."
   ]
  },
  {
   "cell_type": "markdown",
   "id": "9870e1b4",
   "metadata": {},
   "source": [
    "Example:\n",
    "\n",
    "- zero of $G_1(s)$ cancels a pole of $G_2(s)$\n",
    "$$G_1(s)=\\frac{s+1}{s+2},\\;\\; G_2(s)=\\frac{s+3}{s+1}$$\n",
    "\n",
    "$$\\Rightarrow G(s)= \\frac{\\frac{s+1}{s+2}}{1+\\frac{s+3}{s+2}} = \\frac{s+3}{1+(s+3)}$$\n",
    "\n",
    "- pole of $G_1(s)$ cancels a zero of $G_2(s)$\n",
    "$$G_1(s)=\\frac{s+1}{s+2},\\;\\; G_2(s)=\\frac{s+2}{s+3}$$\n",
    "\n",
    "$$\\Rightarrow G(s)= \\frac{\\frac{s+1}{s+2}}{1+\\frac{s+1}{s+3}} = \\frac{\\frac{(s+1)(s+3)}{s+2}}{(s+3)+(s+1)} = \\frac{(s+1)(s+3)}{(s+2)((s+3)+(s+1))}$$"
   ]
  },
  {
   "cell_type": "markdown",
   "id": "11fd59a9",
   "metadata": {},
   "source": [
    "### Stability of Interconnected Systems"
   ]
  },
  {
   "cell_type": "markdown",
   "id": "fff0c688",
   "metadata": {},
   "source": [
    "Let's now analyse the stability of a system which is obtained through a composition of subsystems.\n",
    "\n",
    "Question:\n",
    "- Is the asymptotic stability of each indidual subsystem necessary/sufficient to guarantee the stability of the entire system?\n",
    "\n",
    "Assumption:\n",
    "-  Each subsystem are represented by rational functions with numerator and denominator prime between them."
   ]
  },
  {
   "cell_type": "markdown",
   "id": "0ba232b9",
   "metadata": {},
   "source": [
    "#### Cascaded Blocks"
   ]
  },
  {
   "cell_type": "markdown",
   "id": "18ddb66f",
   "metadata": {},
   "source": [
    "<table style='margin: 0 auto' rules=none>\n",
    "<tr>\n",
    "<td> <img src=\"img/20.block-diagram-serie.png\" alt=\"20.block-diagram-serie\" style=\"width: 500px;\"/> </td>\n",
    "</tr>\n",
    "</table>"
   ]
  },
  {
   "cell_type": "markdown",
   "id": "db4ca796",
   "metadata": {},
   "source": [
    "$$G(s) = G_1(s)G_2(s) = \\frac{N_1(s)}{D_1(s)}\\frac{N_2(s)}{D_2(s)}$$\n",
    "\n",
    "**No zero-pole cancellations**\n",
    "- The denominator of $G(s)$ is the product of each denominator, and the poles of $G(s)$ are the union of the poles of each subsystem.\n",
    "- If and only if, the poles of $G_1(s)$ and $G_2(s)$ have Re $<0$, then $G(s)$ is asymptotically stable.\n",
    "\n",
    "**Zero-pole/pole-zero cancellations**\n",
    "- In this case, the overall system has an hidden part corresponding to the zero-pole or pole-zero cancellation. In this case, _if the cancellation is of a pole with Re $\\ge0$ then the hidden part is not stable and the entire system is not stable_.\n",
    "- We call these types of cancellations, **critical**.\n",
    "- Note that this is not visible directly from the transfer function!"
   ]
  },
  {
   "cell_type": "markdown",
   "id": "3c7a9155",
   "metadata": {},
   "source": [
    "#### Parallel Blocks"
   ]
  },
  {
   "cell_type": "markdown",
   "id": "218be1f6",
   "metadata": {},
   "source": [
    "<table style='margin: 0 auto' rules=none>\n",
    "<tr>\n",
    "<td> <img src=\"img/24.block-diagram-parallel-two.png\" alt=\"24.block-diagram-parallel-two\" style=\"width: 500px;\"/> </td>\n",
    "</tr>\n",
    "</table>"
   ]
  },
  {
   "cell_type": "markdown",
   "id": "dc471ee8",
   "metadata": {},
   "source": [
    "$$G(s) = G_1(s) + G_2(s) = \\frac{N_1(s)}{D_1(s)} + \\frac{N_2(s)}{D_2(s)} = \\frac{N_1(s)D_2(s) + N_2(s)D_1(s)}{D_1(s)D_2(s)}$$"
   ]
  },
  {
   "cell_type": "markdown",
   "id": "bf4f3de7",
   "metadata": {},
   "source": [
    "The analysis is similar to the previous case (serie).\n",
    "\n",
    "If there are no cancellations, the poles of $G(s)$ are the product of the poles of $G_1(s)$ and of $G_2(s)$.\n",
    "- $G(s)$ is asymptotically stable, if and only if, the poles of $G_1(s)$ and $G_2(s)$ have Re $<0$.\n",
    "\n",
    "If there are cancellations, then the overall system has an hidden part corresponding to the zero-pole or pole-zero cancellation. If the cancellation is of a pole with Re $>=0$ then the hidden part is not stable and the entire system is not stable.\n",
    "\n",
    "Again, this is not visible analysing the final T.F."
   ]
  },
  {
   "cell_type": "markdown",
   "id": "9bbbfe09",
   "metadata": {},
   "source": [
    "#### Feedback Loop"
   ]
  },
  {
   "cell_type": "markdown",
   "id": "783ce7e8",
   "metadata": {},
   "source": [
    "<table style='margin: 0 auto' rules=none>\n",
    "<tr>\n",
    "<td> <img src=\"img/22.block-diagram-feedback-simple.png\" alt=\"22.block-diagram-feedback-simple\" style=\"width: 500px;\"/> </td>\n",
    "</tr>\n",
    "</table>"
   ]
  },
  {
   "cell_type": "markdown",
   "id": "538c1ce8",
   "metadata": {},
   "source": [
    "$$G(s) = \\frac{G_1(s)}{1 + G_1(s)G_2(s)} =\\frac{\\frac{N_1(s)}{D_1(s)}}{1 + \\frac{N_1(s)}{D_1(s)}\\frac{N_2(s)}{D_2(s)}} = \\frac{N_1(s)D_2(s)}{D_1(s)D_2(s) + N_1(s)N_2(s)}$$\n",
    "\n",
    "- In this case, the poles of the entire system are not only dependednt on the poles of the two subsytems (the numerators are also playing a role).\n",
    "\n",
    "If we do not have cancellations, then the poles of the systems are the roots of the equation:\n",
    "\n",
    "$$D_1(s)D_2(s) + N_1(s)N_2(s) = 0$$\n",
    "\n",
    "_this is called characteristic equation of the feedback system._\n",
    "\n",
    "We can also write the equation above as:\n",
    "\n",
    "$$ 1 + \\frac{N_1(s)D_2(s)}{D_1(s)D_2(s)} = 0$$\n",
    "\n",
    "The feedback system is asymptotically stable if and only if the roots of the previous equation are with Re $<0$, but this does not depend on the stability property of the individual systems.\n",
    "\n",
    "\n",
    "**Critical cancellations**\n",
    "\n",
    "- Note that when we calculate $\\frac{N_1(s)D_2(s)}{D_1(s)D_2(s)}$ we can have _critical cancellations_ and these would correspond to hidden parts of the system (Note that we are assuming to use $y$ or $y_m$ as output variables of the system).\n",
    "- As before, if these critical cancellations are of poles with Re $\\ge0$, these hidden parts are not asymptotically stable and neither is the full system.\n",
    "- This is not visible from the analysis of the T.F.\n",
    "- We have to verify if there are _critical_ cancellations before we analyse the stability of the feedback system.\n",
    "\n",
    "\n",
    "Since the poles of the feedback system are, in general, different from the poles of the individual subsystems, we can use this connection to effectively modify the dynamics of the system, placing the poles where we need them. For example, it is possible to stabilise a non-stable system, or obtain desired performance.\n",
    "\n",
    "Note that the opposite is also true: we can have a non-stable system even if we the individual subsystems are stable."
   ]
  },
  {
   "cell_type": "markdown",
   "id": "9bb7dbc1",
   "metadata": {},
   "source": [
    "## Equivalent block diagrams"
   ]
  },
  {
   "cell_type": "markdown",
   "id": "9b485807",
   "metadata": {},
   "source": [
    "<table style='margin: 0 auto' rules=none>\n",
    "<tr>\n",
    "<td> <img src=\"img/23.table-block-diagrams.png\" alt=\"23.table-block-diagrams\" style=\"width: 650px;\"/> </td>\n",
    "</tr>\n",
    "</table>\n"
   ]
  },
  {
   "cell_type": "markdown",
   "id": "9c26de0b",
   "metadata": {},
   "source": [
    "## BIBO Stability\n",
    "\n",
    "- A system is BIBO stable (Bounded Input, Bounded Output) if for each limited input, there is a limited output\n",
    "- For linear systems: BIBO stability if and only if poles of the transfer functions have Re $<0$\n",
    "- **Caution! The poles of the T.F. are only those that are controllable and observable!**\n",
    "- BIBO stability only depends on the forced response of the system.\n",
    "\n"
   ]
  },
  {
   "cell_type": "markdown",
   "id": "60bdd65f",
   "metadata": {},
   "source": [
    "# Example: Car driving uphill"
   ]
  },
  {
   "cell_type": "markdown",
   "id": "0971f798",
   "metadata": {},
   "source": [
    "<table style='margin: 0 auto' rules=none>\n",
    "<tr>\n",
    "<td> <img src=\"img/9.car-uphill.png\" alt=\"9.car-uphill.png\" style=\"width: 350px;\"/> </td>\n",
    "</tr>\n",
    "</table>"
   ]
  },
  {
   "cell_type": "markdown",
   "id": "074519c8",
   "metadata": {},
   "source": [
    "We can model a car moving uphill using a linear model (small angle approximation) as:\n",
    "\n",
    "\\begin{equation}\n",
    "A=\\frac{df}{dx}=\n",
    "\\begin{bmatrix}\n",
    "0 & 1\\\\\n",
    "0 & -\\frac{\\beta}{m}\n",
    "\\end{bmatrix}\n",
    "\\end{equation}\n",
    "\n",
    "\\begin{equation}\n",
    "B=\\frac{df}{du}=\n",
    "\\begin{bmatrix}\n",
    "0 & 0\\\\\n",
    "\\frac{\\gamma}{m} & -g\n",
    "\\end{bmatrix}\n",
    "\\end{equation}\n",
    "\n",
    "and\n",
    "\n",
    "$$\\dot{\\mathbf{x}}=A\\mathbf{x}+B\\mathbf{u}$$\n",
    "$$y=[0 \\; 1]\\mathbf{x}$$\n",
    "\n",
    "\n",
    "Note that:\n",
    "- If $\\theta = 0$ and $u=0$ (no slope, and no input)\n",
    "- then the equilibrium is $\\forall x_1$, $x_2=0$ (the position does not matter, speed is 0).\n",
    "- this system has two inputs: the pedal and gravity\n"
   ]
  },
  {
   "cell_type": "markdown",
   "id": "05da2063",
   "metadata": {},
   "source": [
    "We can calculate the Matrix Transfer Function as:\n",
    "\n",
    "$$G(s)=C(sI-A)^{-1}Bu$$\n",
    "\n",
    "\\begin{equation}\n",
    "(sI-A) =\n",
    "\\begin{bmatrix}\n",
    "s & -1\\\\\n",
    "0 & s+\\frac{\\beta}{m}\n",
    "\\end{bmatrix}\n",
    "\\end{equation}\n",
    "\n",
    "\n",
    "\\begin{equation}\n",
    "(sI-A)^{-1} = \\frac{1}{s(s+ \\frac{\\beta}{m})} \n",
    "\\begin{bmatrix}\n",
    "s+ \\frac{\\beta}{m} & 1\\\\\n",
    "0 & s\n",
    "\\end{bmatrix}\n",
    "\\end{equation}\n",
    "\n",
    "\n",
    "\\begin{equation}\n",
    "G(s) = \\frac{1}{s(s+ \\frac{\\beta}{m})} \n",
    "\\begin{bmatrix}\n",
    "s \\frac{\\gamma}{m} & -sg\n",
    "\\end{bmatrix} =\n",
    "\\begin{bmatrix}\n",
    "\\frac{\\frac{\\gamma}{m}}{s+\\frac{\\beta}{m}} & \\frac{-g}{s+\\frac{\\beta}{m}}\n",
    "\\end{bmatrix}\n",
    "\\end{equation}\n",
    "\n",
    "If we want to know the T.F. from the pedal to the velocity:\n",
    "\n",
    "$$G(s)=\\frac{\\frac{\\gamma}{m}}{s+\\frac{\\beta}{m}}$$"
   ]
  },
  {
   "cell_type": "markdown",
   "id": "4e67ae16",
   "metadata": {},
   "source": [
    "What happens when we apply a step onto the pedal?\n",
    "\n",
    "Let's study the transfer function and include the input:\n",
    "\n",
    "$$Y(s) = G(s)U(s)=\\frac{\\frac{\\gamma}{m}}{s+\\frac{\\beta}{m}} \\frac{1}{s} = \\frac{\\alpha_1}{s+\\frac{\\beta}{m}} \\frac{\\alpha_2}{s}$$\n",
    "\n",
    "where $$\\alpha_1=-\\frac{\\gamma}{\\beta}, \\; \\alpha_2=\\frac{\\gamma}{\\beta}$$\n",
    "\n",
    "and the inverse transform is:\n",
    "\n",
    "$$ y(t) = \\alpha_1 e^{-\\frac{\\beta}{m}t} + \\alpha_2 1(t)$$"
   ]
  },
  {
   "cell_type": "markdown",
   "id": "8a0972fc",
   "metadata": {},
   "source": [
    "We can implement this in Python:\n",
    "\n",
    "Let's define the step function first"
   ]
  },
  {
   "cell_type": "code",
   "execution_count": null,
   "id": "c45e54d2",
   "metadata": {},
   "outputs": [],
   "source": [
    "from classical_control_theory.intro_to_control_theory import step\n",
    "\n",
    "# def step(t, step_time=0):\n",
    "#     \"\"\"Heaviside step function\"\"\"\n",
    "#     return 1 * (t >= step_time)"
   ]
  },
  {
   "cell_type": "markdown",
   "id": "52a86993",
   "metadata": {},
   "source": [
    "And now we can plot the response of the system $y(t)$ to the step input:"
   ]
  },
  {
   "cell_type": "code",
   "execution_count": null,
   "id": "21c43e12",
   "metadata": {},
   "outputs": [],
   "source": [
    "# We decide the parameters of the car\n",
    "m = 1\n",
    "beta = 1\n",
    "gamma = 1\n",
    "\n",
    "# We set the simulation parameters\n",
    "t = np.linspace(0, 15)\n",
    "\n",
    "# Now we can calculate the output of the system\n",
    "alpha_1 = -gamma/beta\n",
    "alpha_2 = gamma/beta\n",
    "\n",
    "y = alpha_1*np.exp(-beta/m*t) + alpha_2*step(t)"
   ]
  },
  {
   "cell_type": "markdown",
   "id": "5ae91183",
   "metadata": {},
   "source": [
    "And we can plot it:"
   ]
  },
  {
   "cell_type": "code",
   "execution_count": null,
   "id": "a61c412c",
   "metadata": {},
   "outputs": [
    {
     "data": {
      "image/png": "[encoded data removed]",
      "text/plain": [
       "<Figure size 432x288 with 1 Axes>"
      ]
     },
     "metadata": {
      "needs_background": "light"
     },
     "output_type": "display_data"
    }
   ],
   "source": [
    "plt.plot(t, y, linewidth=4)\n",
    "plt.xlabel('time (s)')\n",
    "plt.ylabel('speed (m/s)')\n",
    "plt.grid()"
   ]
  },
  {
   "cell_type": "markdown",
   "id": "3df727b0",
   "metadata": {},
   "source": [
    "Essentially we predict that the car will increase its speed to try and match our step input."
   ]
  },
  {
   "cell_type": "markdown",
   "id": "6307fac3",
   "metadata": {},
   "source": [
    "But what does the actual car do?\n",
    "\n",
    "We implemented a car already in notebook `02_Intro_to_control_theory`, but here it is again for convenience:"
   ]
  },
  {
   "cell_type": "code",
   "execution_count": null,
   "id": "ee16f678",
   "metadata": {},
   "outputs": [],
   "source": [
    "class Car:\n",
    "    _g = 9.8 # Gravity\n",
    "    \n",
    "    def __init__(self, x0, params):\n",
    "        self._x_1 = x0[0] # position (along the road)\n",
    "        self._x_2 = x0[1] # velocity (along the road)\n",
    "        self._m, self._alpha, self._beta, self._gamma = params\n",
    "        \n",
    "    def step(self, dt, u, theta):\n",
    "        self.theta = theta\n",
    "        self._x_1 = self._x_1 + dt*self._x_2\n",
    "        self._x_2 = self._x_2 + dt*(-self._alpha/self._m*abs(self._x_2)*self._x_2 - \\\n",
    "                                    self._beta/self._m*self._x_2 + self._gamma/self._m*u - \\\n",
    "                                    Car._g*np.sin(theta))\n",
    "        \n",
    "    def speedometer(self):        \n",
    "        v = self._x_2\n",
    "        return (v,)  \n",
    "    \n",
    "    # Utility function to simplify plotting\n",
    "    def sensor_i(self):\n",
    "        # Rotation matrix to get back to the main frame.\n",
    "        R = np.array(((np.cos(theta), -np.sin(theta)), (np.sin(theta), np.cos(theta))))\n",
    "        x_i, y_i = R.dot(np.array([[self._x_1],[0]]))\n",
    "        v = self._x_2\n",
    "        return (x_i, y_i, v)"
   ]
  },
  {
   "cell_type": "markdown",
   "id": "ca582d3a",
   "metadata": {},
   "source": [
    "We can now run it:"
   ]
  },
  {
   "cell_type": "code",
   "execution_count": null,
   "id": "36b3ff60",
   "metadata": {},
   "outputs": [],
   "source": [
    "# We define the parameters of the car\n",
    "m = 1\n",
    "alpha = 1\n",
    "beta = 1\n",
    "gamma = 1\n",
    "params = (m, alpha, beta, gamma)\n",
    "\n",
    "# Let's define its initial conditions\n",
    "x_0 = (0,0) # position and speed\n",
    "theta = np.radians(0) # no slope\n",
    "\n",
    "# Define the input: step function\n",
    "u = 1 # input (e.g. 0 or 1)\n",
    "\n",
    "# Create the car\n",
    "car = Car(x_0, params)\n",
    "\n",
    "# run it!\n",
    "t0, tf, dt = 0, 10, 0.1\n",
    "\n",
    "#rotation to get back to the inertial frame..\n",
    "c, s = np.cos(theta), np.sin(theta)\n",
    "R = np.array(((c, -s), (s, c)))\n",
    "\n",
    "position = []\n",
    "velocity = []\n",
    "time = []\n",
    "for t in np.arange(t0, tf, dt):\n",
    "    car.step(dt, u, theta)\n",
    "    v = car.speedometer() # this is in the along road frame\n",
    "    velocity.append(v)\n",
    "    time.append(t)\n",
    "    "
   ]
  },
  {
   "cell_type": "code",
   "execution_count": null,
   "id": "3213fe19",
   "metadata": {},
   "outputs": [
    {
     "data": {
      "image/png": "[encoded data removed]",
      "text/plain": [
       "<Figure size 432x288 with 1 Axes>"
      ]
     },
     "metadata": {
      "needs_background": "light"
     },
     "output_type": "display_data"
    }
   ],
   "source": [
    "plt.plot(np.arange(t0, tf, dt), velocity, linewidth=3)\n",
    "plt.xlabel('time (s)')\n",
    "plt.ylabel('speed (m/s)')\n",
    "plt.grid()"
   ]
  },
  {
   "cell_type": "markdown",
   "id": "a587fca9",
   "metadata": {},
   "source": [
    "Hmm, the speed has a step response but it does not go to 1...\n",
    "\n",
    "The reason is that the actual car does behave differently from our linear model. Let's try another car:"
   ]
  },
  {
   "cell_type": "code",
   "execution_count": null,
   "id": "963e6544",
   "metadata": {},
   "outputs": [],
   "source": [
    "#export\n",
    "class SimplerCar:\n",
    "    _g = 9.8\n",
    "    \n",
    "    def __init__(self, x0, params):\n",
    "        self._x_1 = x0[0] # position (along the road)\n",
    "        self._x_2 = x0[1] # velocity\n",
    "        self._m, self._alpha, self._beta, self._gamma = params\n",
    "        \n",
    "    def step(self, dt, u, theta):\n",
    "        self.theta = theta\n",
    "        self._x_1 = self._x_1 + dt*self._x_2\n",
    "        self._x_2 = self._x_2 + dt*(- self._beta/self._m*self._x_2 + \\\n",
    "                                    self._gamma/self._m*u - Car._g*np.sin(theta))\n",
    "        \n",
    "    def speedometer(self):        \n",
    "        v = self._x_2\n",
    "        return (v,)"
   ]
  },
  {
   "cell_type": "markdown",
   "id": "7a0b5058",
   "metadata": {},
   "source": [
    "And now we can run it again,"
   ]
  },
  {
   "cell_type": "code",
   "execution_count": null,
   "id": "6246c236",
   "metadata": {},
   "outputs": [],
   "source": [
    "# We define the parameters of the car\n",
    "m = 1\n",
    "alpha = 1\n",
    "beta = 1\n",
    "gamma = 1\n",
    "params = (m, alpha, beta, gamma)\n",
    "\n",
    "# Let's define its initial conditions\n",
    "x_0 = (0,0) # position and speed\n",
    "theta = np.radians(0) # no slope\n",
    "\n",
    "# Define the input: step function\n",
    "u = 1 # input (e.g. 0 or 1)\n",
    "\n",
    "# Create the car\n",
    "car = SimplerCar(x_0, params)\n",
    "\n",
    "# run it!\n",
    "t0, tf, dt = 0, 10, 0.1\n",
    "\n",
    "#rotation to get back to the inertial frame..\n",
    "c, s = np.cos(theta), np.sin(theta)\n",
    "R = np.array(((c, -s), (s, c)))\n",
    "\n",
    "position = []\n",
    "velocity = []\n",
    "time = []\n",
    "for t in np.arange(t0, tf, dt):\n",
    "    car.step(dt, u, theta)\n",
    "    v = car.speedometer() # this is in the along road frame\n",
    "    velocity.append(v)\n",
    "    time.append(t)\n",
    "    "
   ]
  },
  {
   "cell_type": "code",
   "execution_count": null,
   "id": "566fb772",
   "metadata": {},
   "outputs": [
    {
     "data": {
      "image/png": "[encoded data removed]",
      "text/plain": [
       "<Figure size 432x288 with 1 Axes>"
      ]
     },
     "metadata": {
      "needs_background": "light"
     },
     "output_type": "display_data"
    }
   ],
   "source": [
    "plt.plot(time, velocity, linewidth=3)\n",
    "plt.xlabel('time (s)')\n",
    "plt.ylabel('speed (m/s)')\n",
    "plt.grid()"
   ]
  },
  {
   "cell_type": "markdown",
   "id": "bc7ab811",
   "metadata": {},
   "source": [
    "Alright! Our linear model represents this second car better."
   ]
  },
  {
   "cell_type": "markdown",
   "id": "8f40850f",
   "metadata": {},
   "source": [
    "------------------------------------"
   ]
  },
  {
   "cell_type": "markdown",
   "id": "34c54463",
   "metadata": {},
   "source": [
    "## Simplifying block diagrams"
   ]
  },
  {
   "cell_type": "markdown",
   "id": "f76fb5eb",
   "metadata": {},
   "source": [
    "Let's now apply the block diagram algebra to some examples:"
   ]
  },
  {
   "cell_type": "markdown",
   "id": "54bc3b9b",
   "metadata": {},
   "source": [
    "### Example 1: "
   ]
  },
  {
   "cell_type": "markdown",
   "id": "ecec213a",
   "metadata": {},
   "source": [
    "Let's suppose that we have a classic negative feedback:"
   ]
  },
  {
   "cell_type": "markdown",
   "id": "ce40c2fe",
   "metadata": {},
   "source": [
    "<table style='margin: 0 auto' rules=none>\n",
    "<tr>\n",
    "<td> <img src=\"img/24.block-diagram-ex-1-1.png\" alt=\"24.block-diagram-ex-1-1\" style=\"width: 500px;\"/> </td>\n",
    "</tr>\n",
    "</table>"
   ]
  },
  {
   "cell_type": "markdown",
   "id": "45676d62",
   "metadata": {},
   "source": [
    "$B$ and $C$ are in parallel and we can combine them into a single block:"
   ]
  },
  {
   "cell_type": "markdown",
   "id": "96458b43",
   "metadata": {},
   "source": [
    "<table style='margin: 0 auto' rules=none>\n",
    "<tr>\n",
    "<td> <img src=\"img/24.block-diagram-ex-1-3.png\" alt=\"24.block-diagram-ex-1-1\" style=\"width: 500px;\"/> </td>\n",
    "</tr>\n",
    "</table>"
   ]
  },
  {
   "cell_type": "markdown",
   "id": "0fbed9f8",
   "metadata": {},
   "source": [
    "We can now reduce the feedback loop:"
   ]
  },
  {
   "cell_type": "markdown",
   "id": "86eb2d2d",
   "metadata": {},
   "source": [
    "<table style='margin: 0 auto' rules=none>\n",
    "<tr>\n",
    "<td> <img src=\"img/24.block-diagram-ex-1-4.png\" alt=\"24.block-diagram-ex-1-1\" style=\"width: 500px;\"/> </td>\n",
    "</tr>\n",
    "</table>"
   ]
  },
  {
   "cell_type": "markdown",
   "id": "1b6db48e",
   "metadata": {},
   "source": [
    "And lastly we can combine the two blocks in series:"
   ]
  },
  {
   "cell_type": "markdown",
   "id": "ab028fa0",
   "metadata": {},
   "source": [
    "\n",
    "<table style='margin: 0 auto' rules=none>\n",
    "<tr>\n",
    "<td> <img src=\"img/24.block-diagram-ex-1-51.png\" alt=\"24.block-diagram-ex-1-1\" style=\"width: 500px;\"/> </td>\n",
    "</tr>\n",
    "</table>"
   ]
  },
  {
   "cell_type": "markdown",
   "id": "9f801f27",
   "metadata": {},
   "source": [
    "### Creating Unity Feedback"
   ]
  },
  {
   "cell_type": "markdown",
   "id": "0654a5d6",
   "metadata": {},
   "source": [
    "- Sometimes when we manipulate block diagrams we do not want to remove blocks to simplify the diagram, but we would like to restructure the diagram to have it in a specific form.\n",
    "\n",
    "- For example we would like to make the following equivalent:\n",
    "<table style='margin: 0 auto' rules=none>\n",
    "<tr>\n",
    "<td> <img src=\"img/24.non-unity-feedback.png\" alt=\"24.non-unity-feedback\" style=\"width: 500px;\"/> </td>\n",
    "<td> <img src=\"img/24.unity-feedback.png\" alt=\"24.unity-feedback\" style=\"width: 500px;\"/> </td>\n",
    "</tr>\n",
    "</table>"
   ]
  },
  {
   "cell_type": "markdown",
   "id": "6a58f707",
   "metadata": {},
   "source": [
    "- We need to determine an $R(s)$ value that makes the two systems equivalent. \n",
    "- We need to write the transfer function for each system, set the two equations equal to each other, and then solving for $R(s)$."
   ]
  },
  {
   "cell_type": "markdown",
   "id": "e32046f3",
   "metadata": {},
   "source": [
    "$$\n",
    "\\frac{G(s)}{1+G(s)H(s)} = \\frac{R(s)}{1+R(s)}  \n",
    "$$\n",
    "\n",
    "$$ \\Downarrow $$\n",
    "\n",
    "$$\n",
    "\\frac{G(s) (1+R(s))}{1+G(s)H(s)} = R(s)\n",
    "$$\n",
    "\n",
    "$$ \\Downarrow $$\n",
    "\n",
    "$$\n",
    "\\frac{G(s)}{1+G(s)H(s)} = R(s) \\bigg( 1- \\frac{G(s)}{1+G(s)H(s)} \\bigg)\n",
    "$$\n",
    "\n",
    "$$ \\Downarrow $$\n",
    "\n",
    "$$\n",
    "R(s) = \\frac{G(s)}{1+G(s)H(s)-G(s)}\n",
    "$$\n",
    "\n"
   ]
  },
  {
   "cell_type": "markdown",
   "id": "873c64a6",
   "metadata": {},
   "source": [
    "Note that we would not be able to easily use this method to go from a unity feedback system to a non-unity feedback system (there will be two unknown variables)."
   ]
  },
  {
   "cell_type": "markdown",
   "id": "3e03a7e3",
   "metadata": {},
   "source": [
    "------------------------"
   ]
  }
 ],
 "metadata": {
  "kernelspec": {
   "display_name": "Python 3 (ipykernel)",
   "language": "python",
   "name": "python3"
  }
 },
 "nbformat": 4,
 "nbformat_minor": 5
}
