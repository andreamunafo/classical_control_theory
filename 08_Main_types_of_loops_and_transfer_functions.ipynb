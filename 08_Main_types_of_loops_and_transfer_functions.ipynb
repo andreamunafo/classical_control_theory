{
 "cells": [
  {
   "cell_type": "code",
   "execution_count": null,
   "id": "5eda5874",
   "metadata": {},
   "outputs": [],
   "source": [
    "# default_exp loops_and_tfs"
   ]
  },
  {
   "cell_type": "markdown",
   "id": "96adf93e",
   "metadata": {},
   "source": [
    "# Main types of loops and transfer functions"
   ]
  },
  {
   "cell_type": "markdown",
   "id": "138ef30c",
   "metadata": {},
   "source": [
    "## The classical viewpoint"
   ]
  },
  {
   "cell_type": "markdown",
   "id": "22974dd9",
   "metadata": {},
   "source": [
    "Standard \"servo\" or tracking configuration of classical feedback control:\n",
    "\n",
    "<tr>\n",
    "    <td> <img src=\"img/standard-control-loop.png\" alt=\"standard-control-loop\" style=\"width: 550px;\"/> </td>\n",
    "</tr>"
   ]
  },
  {
   "cell_type": "markdown",
   "id": "5936ad8a",
   "metadata": {},
   "source": [
    "- $R(s)$: Controller/Compensator\n",
    "- $G(s)$: Plant\n",
    "- $Y_{ref}(s)$: input (reference)\n",
    "- $e(s)$: error\n",
    "- $U(s)$: control signal\n",
    "\n",
    "- This is the \"standard control loop\"\n"
   ]
  },
  {
   "cell_type": "markdown",
   "id": "843a4c5c",
   "metadata": {},
   "source": [
    "### Alternatives"
   ]
  },
  {
   "cell_type": "markdown",
   "id": "db0602e7",
   "metadata": {},
   "source": [
    "<tr>\n",
    "    <td> <img src=\"img/control-loop-alternative-1.png\" alt=\"control-loop-alternative-1\" style=\"width: 550px;\"/> </td>\n",
    "    <td> <img src=\"img/control-loop-alternative-2.png\" alt=\"control-loop-alternative-2\" style=\"width: 550px;\"/> </td>\n",
    "</tr>"
   ]
  },
  {
   "cell_type": "markdown",
   "id": "60f0377f",
   "metadata": {},
   "source": [
    "- We can always reshape them into the standard form."
   ]
  },
  {
   "cell_type": "markdown",
   "id": "3fc3beed",
   "metadata": {},
   "source": [
    "## Disturbances"
   ]
  },
  {
   "cell_type": "markdown",
   "id": "f77dfe6c",
   "metadata": {},
   "source": [
    "More in general:\n",
    "<tr>\n",
    "    <td> <img src=\"img/disturbances.png\" alt=\"disturbances\" style=\"width: 550px;\"/> </td>\n",
    "</tr>\n",
    "\n",
    "- Load disturbance: assumed to act on the process input (but can enter in many different ways)\n",
    "- Measurement disturbance\n",
    "- The process is a system with three inputs (control signal, load disturbance and measurement noise) and one output, the measured signal."
   ]
  },
  {
   "cell_type": "markdown",
   "id": "27c7001b",
   "metadata": {},
   "source": [
    "Or equivalently\n",
    "\n",
    "<tr>\n",
    "    <td> <img src=\"img/disturbances-1.png\" alt=\"disturbances-1\" style=\"width: 550px;\"/> </td>\n",
    "    <td> <img src=\"img/system-generic.png\" alt=\"system-generic\" style=\"width: 550px;\"/> </td>\n",
    "</tr>\n",
    "\n",
    "- The feedback loop is influenced by three signals: $y_{ref}$, $d$, and $n$.\n",
    "- There are three interesting outputs: $e$, $u$, $y$"
   ]
  },
  {
   "cell_type": "markdown",
   "id": "24e0d1e1",
   "metadata": {},
   "source": [
    "**Comments**\n",
    "- Attenuation of load disturbances is often a primary goal for control\n",
    "- Load disturbances are typically dominated by low frequencies (slow varying). \n",
    "   - Example: car cruise control: disturbance is gravity and changes with the slope of the road\n",
    "- Measurement noise corrupts the information about the process vari- able that the sensors delivers\n",
    "- Measurement noise is typically higher frequency (average typically zero)\n",
    "- Sometimes sensors have dynamics: often very accurate values are provided by slow sensors"
   ]
  },
  {
   "cell_type": "markdown",
   "id": "63dc3d9a",
   "metadata": {},
   "source": [
    "In a typical control design problem we would choose the compensator $R(s)$ such as:\n",
    "- the closed-loop system is stable\n",
    "- the loop gain $R(s)G(s)$ has large magnitude at frequencies (low frequencies typically) where the power of the reference input $r$ (and the plant disturbance $d$) is concentrated\n",
    "- the loop gain has small magnitude at frequencies (high frequency typically) where the power of the measurement noise $n$ is concentrated).\n",
    "\n",
    "**Note** To obtain all the previous requirements it is convenient to state the close loop stability in terms of the open loop loop gain. This is provided by the _Nyquist stability criterion_ as we will see later."
   ]
  },
  {
   "cell_type": "markdown",
   "id": "ac2db05b",
   "metadata": {},
   "source": [
    "To understand the second and third requirements more, we can write the transfer function between any input-output pair\n",
    "\n",
    "$$\n",
    "E(s) = \\frac{1}{1+RG}Y_{ref}(s), \\hspace{2cm} Y(s) = \\frac{1}{1+RG}D(s)\n",
    "$$\n",
    "\n",
    "$$\n",
    "Y(s) = \\frac{RG}{1+RG}Y_{ref}(s), \\hspace{2cm} Y(s) = \\frac{RG}{1+RG}N(s)\n",
    "$$\n",
    "\n",
    "$$\n",
    "U(s) = \\frac{R}{1+RG}Y_{ref}(s) \\hspace{2cm} \\hspace{4cm}\n",
    "$$\n",
    "\n",
    "- Some transfer functions are the same\n",
    "- All transfer functions have $1 + RG$ at the denominator: we only study stability once\n",
    "- Transfer functions on the left column give the response of process variable to the set point\n",
    "- The transfer function $\\frac{1}{(1 + RG)}$ tells how the process variable reacts to load disturbances \n",
    "- The transfer function $\\frac{RG}{(1 + RG)}$ gives the response of the output signal to measurement noise.\n",
    "\n",
    "- The transfer function $L(s)=R(s)G(s)$ is called _loop gain_ or _loop transfer function_.\n",
    "\n",
    "-----\n",
    "- **Sensitivity function**\n",
    "\n",
    "$$\n",
    "S(s) = \\frac{1}{1+RG}\n",
    "$$\n",
    "\n",
    "- Describes how feedback influences the disturbances\n",
    "- If $|RG|$ is large at frequencies where the power of the disturbance is concentrated, then $|S|$ is small and the effect of the disturbance on the output is attenuated\n",
    "- Lower values of $|S|$ means higher attenuation of the external disturbance.\n",
    "- Typically, plant disturbances are low frequency, and one would like $|RG|$ to be large at low frequency\n",
    "\n",
    "**Note**\n",
    "- The same transfer function also relates $e$ and $y_{ref}$.\n",
    "- If we want $y$ to track $r$ with good accuracy we want a small response of the error signal to the driving signal (_tracking accuracy_).\n",
    "- $|S|$ should be small (or equivalently $|RG|$ large) at frequencies where the power of $y_{ref}$ is concentrated.\n",
    "- In most applications the reference signal is slowly varying and this means that we need $|RG|$ to be large at low frequencies\n",
    "\n",
    "------\n",
    "- **Complementary sensitivity**\n",
    "$$\n",
    "T(s) = \\frac{RG}{1+RG}\n",
    "$$\n",
    "\n",
    "- Maps the noise input $n$ to the output $y$\n",
    "- Noise rejection defines high frequency specifications\n",
    "- $S+T=1$\n",
    "\n",
    "- Note that $T$ is also the transfer function from $y_{ref}$ to $y$.\n",
    "- If $|RG|$ is small at frequencies where the noise $n$ is concentrated then $|T|$ will be small and the effect of the noise on the output is minimised.\n",
    "- Measurement noise tend to occur at high frequency and this means that typically we would like $|RG|$ to be small at high frequency\n",
    "- This constraint does not conflict with the low-frequency constraints for the disturbance $d$ and the reference $y_{ref}$.\n"
   ]
  },
  {
   "cell_type": "markdown",
   "id": "4bbaf731",
   "metadata": {},
   "source": [
    "### Control design task"
   ]
  },
  {
   "cell_type": "markdown",
   "id": "7107301d",
   "metadata": {},
   "source": [
    "- Given a plant $G$, we need to design a compensator $R$ such that:\n",
    "- The loop gain magnitude |RG| is large at low frequencies (to track the reference and reject disturbance)\n",
    "- The loop gain magnitude |RG| rolls off (steeply decreases) to low values at high frequencies (to reject measurement noise)\n",
    "- The stability of the system must be guaranteed"
   ]
  },
  {
   "cell_type": "markdown",
   "id": "701c5df2",
   "metadata": {},
   "source": [
    "**Final Note:**\n",
    "- Remember that we can have additional requirements on:\n",
    "   - steady state response. This is typically specified in terms of response to known signals (e.g., step response error less than desired threshold (e.g. <3%), etc)\n",
    "   - transient response (e.g. settling time, raise time, maximum overshoot - see also notebook `05_system_response.ipynb`\n",
    "\n"
   ]
  },
  {
   "cell_type": "markdown",
   "id": "479b8301",
   "metadata": {},
   "source": [
    "------------"
   ]
  }
 ],
 "metadata": {
  "kernelspec": {
   "display_name": "Python 3 (ipykernel)",
   "language": "python",
   "name": "python3"
  }
 },
 "nbformat": 4,
 "nbformat_minor": 5
}
